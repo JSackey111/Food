{
 "cells": [
  {
   "cell_type": "markdown",
   "id": "4b476a39",
   "metadata": {},
   "source": [
    "# Amazon Business Research Analyst Dataset\n",
    "\n",
    "Objectives\n",
    "1.\tWhat food customers like the most\n",
    "2.\tDoes weather influence what people eat\n",
    "3.\tWhat is the preferred mode of transportation used by the restaurant \n",
    "4.\tWhat time do people pick their orders most?\n",
    "5.\tWhich days are the busiest in the restaurant [which days do customers visit the restaurant the most]\n",
    "6. Which days of the week does the restaurant delivers most patronize\n",
    "7. What is the relationship between the time taken to deliver food and the distance travelled? \n",
    "8. What is the correlation between days of the week with respect to the type of vehicle used to deliver food and the distance covered? \n",
    "9. From which city does the restaurant get most orders \n",
    "10. Does the traffic density influence what time orders are made?\n",
    "\n",
    "Machine learning scenario:\n",
    "\n",
    "Mrs Ndidi ordered meals at the amazon restaurant on Thursday morning. Predict how long before she received her order if the delivery man used motorcycle bearing in mind that the customer  stays 9.760928 km away from the restaurant?\n",
    "\n",
    "\n"
   ]
  },
  {
   "cell_type": "markdown",
   "id": "632c1866",
   "metadata": {},
   "source": [
    "## Importing libraries and loading datasets"
   ]
  },
  {
   "cell_type": "code",
   "execution_count": 1,
   "id": "20d18682",
   "metadata": {},
   "outputs": [],
   "source": [
    "import pandas as pd\n",
    "import numpy as np\n",
    "import matplotlib.pyplot as plt\n",
    "import seaborn as sn"
   ]
  },
  {
   "cell_type": "code",
   "execution_count": 2,
   "id": "9f9572d6",
   "metadata": {},
   "outputs": [
    {
     "data": {
      "text/html": [
       "<div>\n",
       "<style scoped>\n",
       "    .dataframe tbody tr th:only-of-type {\n",
       "        vertical-align: middle;\n",
       "    }\n",
       "\n",
       "    .dataframe tbody tr th {\n",
       "        vertical-align: top;\n",
       "    }\n",
       "\n",
       "    .dataframe thead th {\n",
       "        text-align: right;\n",
       "    }\n",
       "</style>\n",
       "<table border=\"1\" class=\"dataframe\">\n",
       "  <thead>\n",
       "    <tr style=\"text-align: right;\">\n",
       "      <th></th>\n",
       "      <th>ID</th>\n",
       "      <th>Delivery_person_ID</th>\n",
       "      <th>Delivery_person_Age</th>\n",
       "      <th>Delivery_person_Ratings</th>\n",
       "      <th>Restaurant_latitude</th>\n",
       "      <th>Restaurant_longitude</th>\n",
       "      <th>Delivery_location_latitude</th>\n",
       "      <th>Delivery_location_longitude</th>\n",
       "      <th>Order_Date</th>\n",
       "      <th>Time_Orderd</th>\n",
       "      <th>Time_Order_picked</th>\n",
       "      <th>Weather</th>\n",
       "      <th>Road_traffic_density</th>\n",
       "      <th>Vehicle_condition</th>\n",
       "      <th>Type_of_order</th>\n",
       "      <th>Type_of_vehicle</th>\n",
       "      <th>multiple_deliveries</th>\n",
       "      <th>Festival</th>\n",
       "      <th>City</th>\n",
       "      <th>Name:</th>\n",
       "    </tr>\n",
       "  </thead>\n",
       "  <tbody>\n",
       "    <tr>\n",
       "      <th>0</th>\n",
       "      <td>0x2318</td>\n",
       "      <td>COIMBRES13DEL01</td>\n",
       "      <td>NaN</td>\n",
       "      <td>NaN</td>\n",
       "      <td>11.003669</td>\n",
       "      <td>76.976494</td>\n",
       "      <td>11.043669</td>\n",
       "      <td>77.016494</td>\n",
       "      <td>30-03-2022</td>\n",
       "      <td>NaN</td>\n",
       "      <td>15:05</td>\n",
       "      <td>NaN</td>\n",
       "      <td>NaN</td>\n",
       "      <td>3</td>\n",
       "      <td>Drinks</td>\n",
       "      <td>electric_scooter</td>\n",
       "      <td>1.0</td>\n",
       "      <td>No</td>\n",
       "      <td>Metropolitian</td>\n",
       "      <td>object</td>\n",
       "    </tr>\n",
       "    <tr>\n",
       "      <th>1</th>\n",
       "      <td>0x3474</td>\n",
       "      <td>BANGRES15DEL01</td>\n",
       "      <td>28.0</td>\n",
       "      <td>4.6</td>\n",
       "      <td>12.975377</td>\n",
       "      <td>77.696664</td>\n",
       "      <td>13.085377</td>\n",
       "      <td>77.806664</td>\n",
       "      <td>29-03-2022</td>\n",
       "      <td>20:30</td>\n",
       "      <td>20:35</td>\n",
       "      <td>Windy</td>\n",
       "      <td>Jam</td>\n",
       "      <td>0</td>\n",
       "      <td>Snack</td>\n",
       "      <td>motorcycle</td>\n",
       "      <td>1.0</td>\n",
       "      <td>No</td>\n",
       "      <td>Metropolitian</td>\n",
       "      <td>object</td>\n",
       "    </tr>\n",
       "    <tr>\n",
       "      <th>2</th>\n",
       "      <td>0x9420</td>\n",
       "      <td>JAPRES09DEL03</td>\n",
       "      <td>23.0</td>\n",
       "      <td>4.5</td>\n",
       "      <td>26.911378</td>\n",
       "      <td>75.789034</td>\n",
       "      <td>27.001378</td>\n",
       "      <td>75.879034</td>\n",
       "      <td>10-03-2022</td>\n",
       "      <td>19:35</td>\n",
       "      <td>19:45</td>\n",
       "      <td>Stormy</td>\n",
       "      <td>Jam</td>\n",
       "      <td>0</td>\n",
       "      <td>Drinks</td>\n",
       "      <td>motorcycle</td>\n",
       "      <td>1.0</td>\n",
       "      <td>No</td>\n",
       "      <td>Metropolitian</td>\n",
       "      <td>object</td>\n",
       "    </tr>\n",
       "    <tr>\n",
       "      <th>3</th>\n",
       "      <td>0x72ee</td>\n",
       "      <td>JAPRES07DEL03</td>\n",
       "      <td>21.0</td>\n",
       "      <td>4.8</td>\n",
       "      <td>26.766536</td>\n",
       "      <td>75.837333</td>\n",
       "      <td>26.856536</td>\n",
       "      <td>75.927333</td>\n",
       "      <td>02-04-2022</td>\n",
       "      <td>17:15</td>\n",
       "      <td>17:20</td>\n",
       "      <td>Fog</td>\n",
       "      <td>Medium</td>\n",
       "      <td>1</td>\n",
       "      <td>Meal</td>\n",
       "      <td>scooter</td>\n",
       "      <td>1.0</td>\n",
       "      <td>No</td>\n",
       "      <td>Metropolitian</td>\n",
       "      <td>object</td>\n",
       "    </tr>\n",
       "    <tr>\n",
       "      <th>4</th>\n",
       "      <td>0xa759</td>\n",
       "      <td>CHENRES19DEL01</td>\n",
       "      <td>31.0</td>\n",
       "      <td>4.6</td>\n",
       "      <td>12.986047</td>\n",
       "      <td>80.218114</td>\n",
       "      <td>13.096047</td>\n",
       "      <td>80.328114</td>\n",
       "      <td>27-03-2022</td>\n",
       "      <td>18:25</td>\n",
       "      <td>18:40</td>\n",
       "      <td>Sunny</td>\n",
       "      <td>Medium</td>\n",
       "      <td>2</td>\n",
       "      <td>Drinks</td>\n",
       "      <td>scooter</td>\n",
       "      <td>1.0</td>\n",
       "      <td>No</td>\n",
       "      <td>Metropolitian</td>\n",
       "      <td>object</td>\n",
       "    </tr>\n",
       "  </tbody>\n",
       "</table>\n",
       "</div>"
      ],
      "text/plain": [
       "       ID Delivery_person_ID  Delivery_person_Age  Delivery_person_Ratings  \\\n",
       "0  0x2318    COIMBRES13DEL01                  NaN                      NaN   \n",
       "1  0x3474     BANGRES15DEL01                 28.0                      4.6   \n",
       "2  0x9420      JAPRES09DEL03                 23.0                      4.5   \n",
       "3  0x72ee      JAPRES07DEL03                 21.0                      4.8   \n",
       "4  0xa759     CHENRES19DEL01                 31.0                      4.6   \n",
       "\n",
       "   Restaurant_latitude  Restaurant_longitude  Delivery_location_latitude  \\\n",
       "0            11.003669             76.976494                   11.043669   \n",
       "1            12.975377             77.696664                   13.085377   \n",
       "2            26.911378             75.789034                   27.001378   \n",
       "3            26.766536             75.837333                   26.856536   \n",
       "4            12.986047             80.218114                   13.096047   \n",
       "\n",
       "   Delivery_location_longitude  Order_Date Time_Orderd Time_Order_picked  \\\n",
       "0                    77.016494  30-03-2022         NaN             15:05   \n",
       "1                    77.806664  29-03-2022       20:30             20:35   \n",
       "2                    75.879034  10-03-2022       19:35             19:45   \n",
       "3                    75.927333  02-04-2022       17:15             17:20   \n",
       "4                    80.328114  27-03-2022       18:25             18:40   \n",
       "\n",
       "  Weather Road_traffic_density  Vehicle_condition Type_of_order  \\\n",
       "0     NaN                  NaN                  3        Drinks   \n",
       "1   Windy                  Jam                  0         Snack   \n",
       "2  Stormy                  Jam                  0        Drinks   \n",
       "3     Fog               Medium                  1          Meal   \n",
       "4   Sunny               Medium                  2        Drinks   \n",
       "\n",
       "    Type_of_vehicle  multiple_deliveries Festival           City   Name:  \n",
       "0  electric_scooter                  1.0       No  Metropolitian  object  \n",
       "1        motorcycle                  1.0       No  Metropolitian  object  \n",
       "2        motorcycle                  1.0       No  Metropolitian  object  \n",
       "3           scooter                  1.0       No  Metropolitian  object  \n",
       "4           scooter                  1.0       No  Metropolitian  object  "
      ]
     },
     "execution_count": 2,
     "metadata": {},
     "output_type": "execute_result"
    }
   ],
   "source": [
    "food=pd.read_csv('cleaned_test.csv')\n",
    "food.head()"
   ]
  },
  {
   "cell_type": "markdown",
   "id": "2ad81da9",
   "metadata": {},
   "source": [
    "## Data Pre-processing: Data Cleaning"
   ]
  },
  {
   "cell_type": "code",
   "execution_count": 3,
   "id": "c19283be",
   "metadata": {},
   "outputs": [
    {
     "name": "stdout",
     "output_type": "stream",
     "text": [
      "<class 'pandas.core.frame.DataFrame'>\n",
      "RangeIndex: 11399 entries, 0 to 11398\n",
      "Data columns (total 20 columns):\n",
      " #   Column                       Non-Null Count  Dtype  \n",
      "---  ------                       --------------  -----  \n",
      " 0   ID                           11399 non-null  object \n",
      " 1   Delivery_person_ID           11399 non-null  object \n",
      " 2   Delivery_person_Age          10908 non-null  float64\n",
      " 3   Delivery_person_Ratings      10892 non-null  float64\n",
      " 4   Restaurant_latitude          11399 non-null  float64\n",
      " 5   Restaurant_longitude         11399 non-null  float64\n",
      " 6   Delivery_location_latitude   11399 non-null  float64\n",
      " 7   Delivery_location_longitude  11399 non-null  float64\n",
      " 8   Order_Date                   11399 non-null  object \n",
      " 9   Time_Orderd                  10955 non-null  object \n",
      " 10  Time_Order_picked            11399 non-null  object \n",
      " 11  Weather                      11241 non-null  object \n",
      " 12  Road_traffic_density         11245 non-null  object \n",
      " 13  Vehicle_condition            11399 non-null  int64  \n",
      " 14  Type_of_order                11399 non-null  object \n",
      " 15  Type_of_vehicle              11399 non-null  object \n",
      " 16  multiple_deliveries          11161 non-null  float64\n",
      " 17  Festival                     11334 non-null  object \n",
      " 18  City                         11075 non-null  object \n",
      " 19  Name:                        11399 non-null  object \n",
      "dtypes: float64(7), int64(1), object(12)\n",
      "memory usage: 1.7+ MB\n"
     ]
    }
   ],
   "source": [
    "food.info()"
   ]
  },
  {
   "cell_type": "code",
   "execution_count": 4,
   "id": "6780bf52",
   "metadata": {},
   "outputs": [
    {
     "data": {
      "text/html": [
       "<div>\n",
       "<style scoped>\n",
       "    .dataframe tbody tr th:only-of-type {\n",
       "        vertical-align: middle;\n",
       "    }\n",
       "\n",
       "    .dataframe tbody tr th {\n",
       "        vertical-align: top;\n",
       "    }\n",
       "\n",
       "    .dataframe thead th {\n",
       "        text-align: right;\n",
       "    }\n",
       "</style>\n",
       "<table border=\"1\" class=\"dataframe\">\n",
       "  <thead>\n",
       "    <tr style=\"text-align: right;\">\n",
       "      <th></th>\n",
       "      <th>Unnamed: 0</th>\n",
       "      <th>ID</th>\n",
       "      <th>Delivery_person_ID</th>\n",
       "      <th>Delivery_person_Age</th>\n",
       "      <th>Delivery_person_Ratings</th>\n",
       "      <th>Restaurant_latitude</th>\n",
       "      <th>Restaurant_longitude</th>\n",
       "      <th>Delivery_location_latitude</th>\n",
       "      <th>Delivery_location_longitude</th>\n",
       "      <th>Time_Orderd</th>\n",
       "      <th>Time_Order_picked</th>\n",
       "      <th>Weatherconditions</th>\n",
       "      <th>Road_traffic_density</th>\n",
       "      <th>Vehicle_condition</th>\n",
       "      <th>Type_of_order</th>\n",
       "      <th>Type_of_vehicle</th>\n",
       "      <th>multiple_deliveries</th>\n",
       "      <th>Festival</th>\n",
       "      <th>City</th>\n",
       "      <th>Time_taken(min)</th>\n",
       "    </tr>\n",
       "  </thead>\n",
       "  <tbody>\n",
       "    <tr>\n",
       "      <th>0</th>\n",
       "      <td>1</td>\n",
       "      <td>0x4607_x</td>\n",
       "      <td>INDORES13DEL02</td>\n",
       "      <td>37</td>\n",
       "      <td>4.9</td>\n",
       "      <td>22.745049</td>\n",
       "      <td>75.892471</td>\n",
       "      <td>22.765049</td>\n",
       "      <td>75.912471</td>\n",
       "      <td>11:30</td>\n",
       "      <td>11:45</td>\n",
       "      <td>4</td>\n",
       "      <td>0</td>\n",
       "      <td>2</td>\n",
       "      <td>3</td>\n",
       "      <td>3</td>\n",
       "      <td>0.0</td>\n",
       "      <td>1</td>\n",
       "      <td>3</td>\n",
       "      <td>24.0</td>\n",
       "    </tr>\n",
       "    <tr>\n",
       "      <th>1</th>\n",
       "      <td>2</td>\n",
       "      <td>0xb379_x</td>\n",
       "      <td>BANGRES18DEL02</td>\n",
       "      <td>34</td>\n",
       "      <td>4.5</td>\n",
       "      <td>12.913041</td>\n",
       "      <td>77.683237</td>\n",
       "      <td>13.043041</td>\n",
       "      <td>77.813237</td>\n",
       "      <td>19:45</td>\n",
       "      <td>19:50</td>\n",
       "      <td>3</td>\n",
       "      <td>1</td>\n",
       "      <td>2</td>\n",
       "      <td>3</td>\n",
       "      <td>4</td>\n",
       "      <td>1.0</td>\n",
       "      <td>1</td>\n",
       "      <td>1</td>\n",
       "      <td>33.0</td>\n",
       "    </tr>\n",
       "    <tr>\n",
       "      <th>2</th>\n",
       "      <td>3</td>\n",
       "      <td>0x20f7_x</td>\n",
       "      <td>BANGRES18DEL01</td>\n",
       "      <td>37</td>\n",
       "      <td>4.4</td>\n",
       "      <td>12.913041</td>\n",
       "      <td>77.683237</td>\n",
       "      <td>12.953041</td>\n",
       "      <td>77.723237</td>\n",
       "      <td>13:50</td>\n",
       "      <td>13:55</td>\n",
       "      <td>6</td>\n",
       "      <td>0</td>\n",
       "      <td>0</td>\n",
       "      <td>0</td>\n",
       "      <td>3</td>\n",
       "      <td>2.0</td>\n",
       "      <td>1</td>\n",
       "      <td>1</td>\n",
       "      <td>42.0</td>\n",
       "    </tr>\n",
       "    <tr>\n",
       "      <th>3</th>\n",
       "      <td>4</td>\n",
       "      <td>0x7804_x</td>\n",
       "      <td>HYDRES13DEL02</td>\n",
       "      <td>28</td>\n",
       "      <td>4.9</td>\n",
       "      <td>17.431477</td>\n",
       "      <td>78.400350</td>\n",
       "      <td>17.451477</td>\n",
       "      <td>78.420350</td>\n",
       "      <td>10:60</td>\n",
       "      <td>11:15</td>\n",
       "      <td>2</td>\n",
       "      <td>2</td>\n",
       "      <td>1</td>\n",
       "      <td>2</td>\n",
       "      <td>4</td>\n",
       "      <td>1.0</td>\n",
       "      <td>1</td>\n",
       "      <td>3</td>\n",
       "      <td>19.0</td>\n",
       "    </tr>\n",
       "    <tr>\n",
       "      <th>4</th>\n",
       "      <td>5</td>\n",
       "      <td>0x7faf_x</td>\n",
       "      <td>RANCHIRES07DEL01</td>\n",
       "      <td>37</td>\n",
       "      <td>4.6</td>\n",
       "      <td>23.359407</td>\n",
       "      <td>85.325055</td>\n",
       "      <td>23.429407</td>\n",
       "      <td>85.395055</td>\n",
       "      <td>23:50</td>\n",
       "      <td>23:60</td>\n",
       "      <td>3</td>\n",
       "      <td>2</td>\n",
       "      <td>0</td>\n",
       "      <td>2</td>\n",
       "      <td>3</td>\n",
       "      <td>1.0</td>\n",
       "      <td>1</td>\n",
       "      <td>1</td>\n",
       "      <td>25.0</td>\n",
       "    </tr>\n",
       "  </tbody>\n",
       "</table>\n",
       "</div>"
      ],
      "text/plain": [
       "   Unnamed: 0        ID Delivery_person_ID  Delivery_person_Age  \\\n",
       "0           1  0x4607_x     INDORES13DEL02                   37   \n",
       "1           2  0xb379_x     BANGRES18DEL02                   34   \n",
       "2           3  0x20f7_x     BANGRES18DEL01                   37   \n",
       "3           4  0x7804_x      HYDRES13DEL02                   28   \n",
       "4           5  0x7faf_x   RANCHIRES07DEL01                   37   \n",
       "\n",
       "   Delivery_person_Ratings  Restaurant_latitude  Restaurant_longitude  \\\n",
       "0                      4.9            22.745049             75.892471   \n",
       "1                      4.5            12.913041             77.683237   \n",
       "2                      4.4            12.913041             77.683237   \n",
       "3                      4.9            17.431477             78.400350   \n",
       "4                      4.6            23.359407             85.325055   \n",
       "\n",
       "   Delivery_location_latitude  Delivery_location_longitude Time_Orderd  \\\n",
       "0                   22.765049                    75.912471       11:30   \n",
       "1                   13.043041                    77.813237       19:45   \n",
       "2                   12.953041                    77.723237       13:50   \n",
       "3                   17.451477                    78.420350       10:60   \n",
       "4                   23.429407                    85.395055       23:50   \n",
       "\n",
       "  Time_Order_picked  Weatherconditions  Road_traffic_density  \\\n",
       "0             11:45                  4                     0   \n",
       "1             19:50                  3                     1   \n",
       "2             13:55                  6                     0   \n",
       "3             11:15                  2                     2   \n",
       "4             23:60                  3                     2   \n",
       "\n",
       "   Vehicle_condition  Type_of_order  Type_of_vehicle  multiple_deliveries  \\\n",
       "0                  2              3                3                  0.0   \n",
       "1                  2              3                4                  1.0   \n",
       "2                  0              0                3                  2.0   \n",
       "3                  1              2                4                  1.0   \n",
       "4                  0              2                3                  1.0   \n",
       "\n",
       "   Festival  City  Time_taken(min)  \n",
       "0         1     3             24.0  \n",
       "1         1     1             33.0  \n",
       "2         1     1             42.0  \n",
       "3         1     3             19.0  \n",
       "4         1     1             25.0  "
      ]
     },
     "execution_count": 4,
     "metadata": {},
     "output_type": "execute_result"
    }
   ],
   "source": [
    "updatedfood=pd.read_csv('updated.csv')\n",
    "updatedfood.head()"
   ]
  },
  {
   "cell_type": "markdown",
   "id": "397c6cd0",
   "metadata": {},
   "source": [
    "Extracting time taken column from updated food dataset"
   ]
  },
  {
   "cell_type": "code",
   "execution_count": 5,
   "id": "953c8f7e",
   "metadata": {},
   "outputs": [
    {
     "data": {
      "text/plain": [
       "0       24.0\n",
       "1       33.0\n",
       "2       42.0\n",
       "3       19.0\n",
       "4       25.0\n",
       "        ... \n",
       "2437    29.0\n",
       "2438    22.0\n",
       "2439    28.0\n",
       "2440    12.0\n",
       "2441    36.0\n",
       "Name: Time_taken(min), Length: 2442, dtype: float64"
      ]
     },
     "execution_count": 5,
     "metadata": {},
     "output_type": "execute_result"
    }
   ],
   "source": [
    "Time_taken=updatedfood['Time_taken(min)']\n",
    "Time_taken"
   ]
  },
  {
   "cell_type": "markdown",
   "id": "76f09671",
   "metadata": {},
   "source": [
    "Adding time_taken column to the cleaned dataset"
   ]
  },
  {
   "cell_type": "code",
   "execution_count": 6,
   "id": "1642d81d",
   "metadata": {},
   "outputs": [],
   "source": [
    "food['Time_taken']=Time_taken"
   ]
  },
  {
   "cell_type": "markdown",
   "id": "72eadb35",
   "metadata": {},
   "source": [
    "converting the Order_Date to category datatype"
   ]
  },
  {
   "cell_type": "code",
   "execution_count": 7,
   "id": "331316b7",
   "metadata": {},
   "outputs": [
    {
     "name": "stderr",
     "output_type": "stream",
     "text": [
      "C:\\Users\\juliy\\anaconda3\\lib\\site-packages\\pandas\\core\\tools\\datetimes.py:1047: UserWarning: Parsing '30-03-2022' in DD/MM/YYYY format. Provide format or specify infer_datetime_format=True for consistent parsing.\n",
      "  cache_array = _maybe_cache(arg, format, cache, convert_listlike)\n",
      "C:\\Users\\juliy\\anaconda3\\lib\\site-packages\\pandas\\core\\tools\\datetimes.py:1047: UserWarning: Parsing '29-03-2022' in DD/MM/YYYY format. Provide format or specify infer_datetime_format=True for consistent parsing.\n",
      "  cache_array = _maybe_cache(arg, format, cache, convert_listlike)\n",
      "C:\\Users\\juliy\\anaconda3\\lib\\site-packages\\pandas\\core\\tools\\datetimes.py:1047: UserWarning: Parsing '27-03-2022' in DD/MM/YYYY format. Provide format or specify infer_datetime_format=True for consistent parsing.\n",
      "  cache_array = _maybe_cache(arg, format, cache, convert_listlike)\n",
      "C:\\Users\\juliy\\anaconda3\\lib\\site-packages\\pandas\\core\\tools\\datetimes.py:1047: UserWarning: Parsing '15-02-2022' in DD/MM/YYYY format. Provide format or specify infer_datetime_format=True for consistent parsing.\n",
      "  cache_array = _maybe_cache(arg, format, cache, convert_listlike)\n",
      "C:\\Users\\juliy\\anaconda3\\lib\\site-packages\\pandas\\core\\tools\\datetimes.py:1047: UserWarning: Parsing '13-02-2022' in DD/MM/YYYY format. Provide format or specify infer_datetime_format=True for consistent parsing.\n",
      "  cache_array = _maybe_cache(arg, format, cache, convert_listlike)\n",
      "C:\\Users\\juliy\\anaconda3\\lib\\site-packages\\pandas\\core\\tools\\datetimes.py:1047: UserWarning: Parsing '17-02-2022' in DD/MM/YYYY format. Provide format or specify infer_datetime_format=True for consistent parsing.\n",
      "  cache_array = _maybe_cache(arg, format, cache, convert_listlike)\n",
      "C:\\Users\\juliy\\anaconda3\\lib\\site-packages\\pandas\\core\\tools\\datetimes.py:1047: UserWarning: Parsing '16-03-2022' in DD/MM/YYYY format. Provide format or specify infer_datetime_format=True for consistent parsing.\n",
      "  cache_array = _maybe_cache(arg, format, cache, convert_listlike)\n",
      "C:\\Users\\juliy\\anaconda3\\lib\\site-packages\\pandas\\core\\tools\\datetimes.py:1047: UserWarning: Parsing '17-03-2022' in DD/MM/YYYY format. Provide format or specify infer_datetime_format=True for consistent parsing.\n",
      "  cache_array = _maybe_cache(arg, format, cache, convert_listlike)\n",
      "C:\\Users\\juliy\\anaconda3\\lib\\site-packages\\pandas\\core\\tools\\datetimes.py:1047: UserWarning: Parsing '15-03-2022' in DD/MM/YYYY format. Provide format or specify infer_datetime_format=True for consistent parsing.\n",
      "  cache_array = _maybe_cache(arg, format, cache, convert_listlike)\n",
      "C:\\Users\\juliy\\anaconda3\\lib\\site-packages\\pandas\\core\\tools\\datetimes.py:1047: UserWarning: Parsing '14-03-2022' in DD/MM/YYYY format. Provide format or specify infer_datetime_format=True for consistent parsing.\n",
      "  cache_array = _maybe_cache(arg, format, cache, convert_listlike)\n",
      "C:\\Users\\juliy\\anaconda3\\lib\\site-packages\\pandas\\core\\tools\\datetimes.py:1047: UserWarning: Parsing '24-03-2022' in DD/MM/YYYY format. Provide format or specify infer_datetime_format=True for consistent parsing.\n",
      "  cache_array = _maybe_cache(arg, format, cache, convert_listlike)\n",
      "C:\\Users\\juliy\\anaconda3\\lib\\site-packages\\pandas\\core\\tools\\datetimes.py:1047: UserWarning: Parsing '16-02-2022' in DD/MM/YYYY format. Provide format or specify infer_datetime_format=True for consistent parsing.\n",
      "  cache_array = _maybe_cache(arg, format, cache, convert_listlike)\n",
      "C:\\Users\\juliy\\anaconda3\\lib\\site-packages\\pandas\\core\\tools\\datetimes.py:1047: UserWarning: Parsing '19-03-2022' in DD/MM/YYYY format. Provide format or specify infer_datetime_format=True for consistent parsing.\n",
      "  cache_array = _maybe_cache(arg, format, cache, convert_listlike)\n",
      "C:\\Users\\juliy\\anaconda3\\lib\\site-packages\\pandas\\core\\tools\\datetimes.py:1047: UserWarning: Parsing '13-03-2022' in DD/MM/YYYY format. Provide format or specify infer_datetime_format=True for consistent parsing.\n",
      "  cache_array = _maybe_cache(arg, format, cache, convert_listlike)\n",
      "C:\\Users\\juliy\\anaconda3\\lib\\site-packages\\pandas\\core\\tools\\datetimes.py:1047: UserWarning: Parsing '18-03-2022' in DD/MM/YYYY format. Provide format or specify infer_datetime_format=True for consistent parsing.\n",
      "  cache_array = _maybe_cache(arg, format, cache, convert_listlike)\n",
      "C:\\Users\\juliy\\anaconda3\\lib\\site-packages\\pandas\\core\\tools\\datetimes.py:1047: UserWarning: Parsing '23-03-2022' in DD/MM/YYYY format. Provide format or specify infer_datetime_format=True for consistent parsing.\n",
      "  cache_array = _maybe_cache(arg, format, cache, convert_listlike)\n",
      "C:\\Users\\juliy\\anaconda3\\lib\\site-packages\\pandas\\core\\tools\\datetimes.py:1047: UserWarning: Parsing '26-03-2022' in DD/MM/YYYY format. Provide format or specify infer_datetime_format=True for consistent parsing.\n",
      "  cache_array = _maybe_cache(arg, format, cache, convert_listlike)\n",
      "C:\\Users\\juliy\\anaconda3\\lib\\site-packages\\pandas\\core\\tools\\datetimes.py:1047: UserWarning: Parsing '20-03-2022' in DD/MM/YYYY format. Provide format or specify infer_datetime_format=True for consistent parsing.\n",
      "  cache_array = _maybe_cache(arg, format, cache, convert_listlike)\n",
      "C:\\Users\\juliy\\anaconda3\\lib\\site-packages\\pandas\\core\\tools\\datetimes.py:1047: UserWarning: Parsing '21-03-2022' in DD/MM/YYYY format. Provide format or specify infer_datetime_format=True for consistent parsing.\n",
      "  cache_array = _maybe_cache(arg, format, cache, convert_listlike)\n",
      "C:\\Users\\juliy\\anaconda3\\lib\\site-packages\\pandas\\core\\tools\\datetimes.py:1047: UserWarning: Parsing '14-02-2022' in DD/MM/YYYY format. Provide format or specify infer_datetime_format=True for consistent parsing.\n",
      "  cache_array = _maybe_cache(arg, format, cache, convert_listlike)\n",
      "C:\\Users\\juliy\\anaconda3\\lib\\site-packages\\pandas\\core\\tools\\datetimes.py:1047: UserWarning: Parsing '18-02-2022' in DD/MM/YYYY format. Provide format or specify infer_datetime_format=True for consistent parsing.\n",
      "  cache_array = _maybe_cache(arg, format, cache, convert_listlike)\n",
      "C:\\Users\\juliy\\anaconda3\\lib\\site-packages\\pandas\\core\\tools\\datetimes.py:1047: UserWarning: Parsing '25-03-2022' in DD/MM/YYYY format. Provide format or specify infer_datetime_format=True for consistent parsing.\n",
      "  cache_array = _maybe_cache(arg, format, cache, convert_listlike)\n",
      "C:\\Users\\juliy\\anaconda3\\lib\\site-packages\\pandas\\core\\tools\\datetimes.py:1047: UserWarning: Parsing '31-03-2022' in DD/MM/YYYY format. Provide format or specify infer_datetime_format=True for consistent parsing.\n",
      "  cache_array = _maybe_cache(arg, format, cache, convert_listlike)\n",
      "C:\\Users\\juliy\\anaconda3\\lib\\site-packages\\pandas\\core\\tools\\datetimes.py:1047: UserWarning: Parsing '28-03-2022' in DD/MM/YYYY format. Provide format or specify infer_datetime_format=True for consistent parsing.\n",
      "  cache_array = _maybe_cache(arg, format, cache, convert_listlike)\n"
     ]
    }
   ],
   "source": [
    "food['Order_Date']=pd.to_datetime(food['Order_Date'])\n",
    "food['Days']=food['Order_Date'].dt.strftime('%A')\n",
    "food['Days']=food['Days'].astype('category')"
   ]
  },
  {
   "cell_type": "markdown",
   "id": "d12ca0bd",
   "metadata": {},
   "source": [
    "Dropping off that 'Order_Date columns'because it has been converted to days"
   ]
  },
  {
   "cell_type": "code",
   "execution_count": 8,
   "id": "17828a8e",
   "metadata": {},
   "outputs": [
    {
     "data": {
      "text/html": [
       "<div>\n",
       "<style scoped>\n",
       "    .dataframe tbody tr th:only-of-type {\n",
       "        vertical-align: middle;\n",
       "    }\n",
       "\n",
       "    .dataframe tbody tr th {\n",
       "        vertical-align: top;\n",
       "    }\n",
       "\n",
       "    .dataframe thead th {\n",
       "        text-align: right;\n",
       "    }\n",
       "</style>\n",
       "<table border=\"1\" class=\"dataframe\">\n",
       "  <thead>\n",
       "    <tr style=\"text-align: right;\">\n",
       "      <th></th>\n",
       "      <th>ID</th>\n",
       "      <th>Delivery_person_ID</th>\n",
       "      <th>Delivery_person_Age</th>\n",
       "      <th>Delivery_person_Ratings</th>\n",
       "      <th>Restaurant_latitude</th>\n",
       "      <th>Restaurant_longitude</th>\n",
       "      <th>Delivery_location_latitude</th>\n",
       "      <th>Delivery_location_longitude</th>\n",
       "      <th>Time_Orderd</th>\n",
       "      <th>Time_Order_picked</th>\n",
       "      <th>...</th>\n",
       "      <th>Road_traffic_density</th>\n",
       "      <th>Vehicle_condition</th>\n",
       "      <th>Type_of_order</th>\n",
       "      <th>Type_of_vehicle</th>\n",
       "      <th>multiple_deliveries</th>\n",
       "      <th>Festival</th>\n",
       "      <th>City</th>\n",
       "      <th>Name:</th>\n",
       "      <th>Time_taken</th>\n",
       "      <th>Days</th>\n",
       "    </tr>\n",
       "  </thead>\n",
       "  <tbody>\n",
       "    <tr>\n",
       "      <th>0</th>\n",
       "      <td>0x2318</td>\n",
       "      <td>COIMBRES13DEL01</td>\n",
       "      <td>NaN</td>\n",
       "      <td>NaN</td>\n",
       "      <td>11.003669</td>\n",
       "      <td>76.976494</td>\n",
       "      <td>11.043669</td>\n",
       "      <td>77.016494</td>\n",
       "      <td>NaN</td>\n",
       "      <td>15:05</td>\n",
       "      <td>...</td>\n",
       "      <td>NaN</td>\n",
       "      <td>3</td>\n",
       "      <td>Drinks</td>\n",
       "      <td>electric_scooter</td>\n",
       "      <td>1.0</td>\n",
       "      <td>No</td>\n",
       "      <td>Metropolitian</td>\n",
       "      <td>object</td>\n",
       "      <td>24.0</td>\n",
       "      <td>Wednesday</td>\n",
       "    </tr>\n",
       "    <tr>\n",
       "      <th>1</th>\n",
       "      <td>0x3474</td>\n",
       "      <td>BANGRES15DEL01</td>\n",
       "      <td>28.0</td>\n",
       "      <td>4.6</td>\n",
       "      <td>12.975377</td>\n",
       "      <td>77.696664</td>\n",
       "      <td>13.085377</td>\n",
       "      <td>77.806664</td>\n",
       "      <td>20:30</td>\n",
       "      <td>20:35</td>\n",
       "      <td>...</td>\n",
       "      <td>Jam</td>\n",
       "      <td>0</td>\n",
       "      <td>Snack</td>\n",
       "      <td>motorcycle</td>\n",
       "      <td>1.0</td>\n",
       "      <td>No</td>\n",
       "      <td>Metropolitian</td>\n",
       "      <td>object</td>\n",
       "      <td>33.0</td>\n",
       "      <td>Tuesday</td>\n",
       "    </tr>\n",
       "    <tr>\n",
       "      <th>2</th>\n",
       "      <td>0x9420</td>\n",
       "      <td>JAPRES09DEL03</td>\n",
       "      <td>23.0</td>\n",
       "      <td>4.5</td>\n",
       "      <td>26.911378</td>\n",
       "      <td>75.789034</td>\n",
       "      <td>27.001378</td>\n",
       "      <td>75.879034</td>\n",
       "      <td>19:35</td>\n",
       "      <td>19:45</td>\n",
       "      <td>...</td>\n",
       "      <td>Jam</td>\n",
       "      <td>0</td>\n",
       "      <td>Drinks</td>\n",
       "      <td>motorcycle</td>\n",
       "      <td>1.0</td>\n",
       "      <td>No</td>\n",
       "      <td>Metropolitian</td>\n",
       "      <td>object</td>\n",
       "      <td>42.0</td>\n",
       "      <td>Monday</td>\n",
       "    </tr>\n",
       "    <tr>\n",
       "      <th>3</th>\n",
       "      <td>0x72ee</td>\n",
       "      <td>JAPRES07DEL03</td>\n",
       "      <td>21.0</td>\n",
       "      <td>4.8</td>\n",
       "      <td>26.766536</td>\n",
       "      <td>75.837333</td>\n",
       "      <td>26.856536</td>\n",
       "      <td>75.927333</td>\n",
       "      <td>17:15</td>\n",
       "      <td>17:20</td>\n",
       "      <td>...</td>\n",
       "      <td>Medium</td>\n",
       "      <td>1</td>\n",
       "      <td>Meal</td>\n",
       "      <td>scooter</td>\n",
       "      <td>1.0</td>\n",
       "      <td>No</td>\n",
       "      <td>Metropolitian</td>\n",
       "      <td>object</td>\n",
       "      <td>19.0</td>\n",
       "      <td>Friday</td>\n",
       "    </tr>\n",
       "    <tr>\n",
       "      <th>4</th>\n",
       "      <td>0xa759</td>\n",
       "      <td>CHENRES19DEL01</td>\n",
       "      <td>31.0</td>\n",
       "      <td>4.6</td>\n",
       "      <td>12.986047</td>\n",
       "      <td>80.218114</td>\n",
       "      <td>13.096047</td>\n",
       "      <td>80.328114</td>\n",
       "      <td>18:25</td>\n",
       "      <td>18:40</td>\n",
       "      <td>...</td>\n",
       "      <td>Medium</td>\n",
       "      <td>2</td>\n",
       "      <td>Drinks</td>\n",
       "      <td>scooter</td>\n",
       "      <td>1.0</td>\n",
       "      <td>No</td>\n",
       "      <td>Metropolitian</td>\n",
       "      <td>object</td>\n",
       "      <td>25.0</td>\n",
       "      <td>Sunday</td>\n",
       "    </tr>\n",
       "    <tr>\n",
       "      <th>...</th>\n",
       "      <td>...</td>\n",
       "      <td>...</td>\n",
       "      <td>...</td>\n",
       "      <td>...</td>\n",
       "      <td>...</td>\n",
       "      <td>...</td>\n",
       "      <td>...</td>\n",
       "      <td>...</td>\n",
       "      <td>...</td>\n",
       "      <td>...</td>\n",
       "      <td>...</td>\n",
       "      <td>...</td>\n",
       "      <td>...</td>\n",
       "      <td>...</td>\n",
       "      <td>...</td>\n",
       "      <td>...</td>\n",
       "      <td>...</td>\n",
       "      <td>...</td>\n",
       "      <td>...</td>\n",
       "      <td>...</td>\n",
       "      <td>...</td>\n",
       "    </tr>\n",
       "    <tr>\n",
       "      <th>11394</th>\n",
       "      <td>0x6909</td>\n",
       "      <td>JAPRES01DEL01</td>\n",
       "      <td>35.0</td>\n",
       "      <td>4.6</td>\n",
       "      <td>26.905190</td>\n",
       "      <td>75.810753</td>\n",
       "      <td>27.015190</td>\n",
       "      <td>75.920753</td>\n",
       "      <td>21:35</td>\n",
       "      <td>21:45</td>\n",
       "      <td>...</td>\n",
       "      <td>Jam</td>\n",
       "      <td>1</td>\n",
       "      <td>Snack</td>\n",
       "      <td>scooter</td>\n",
       "      <td>1.0</td>\n",
       "      <td>No</td>\n",
       "      <td>Metropolitian</td>\n",
       "      <td>object</td>\n",
       "      <td>NaN</td>\n",
       "      <td>Sunday</td>\n",
       "    </tr>\n",
       "    <tr>\n",
       "      <th>11395</th>\n",
       "      <td>0x443b</td>\n",
       "      <td>JAPRES11DEL01</td>\n",
       "      <td>33.0</td>\n",
       "      <td>4.9</td>\n",
       "      <td>26.902940</td>\n",
       "      <td>75.793007</td>\n",
       "      <td>26.912940</td>\n",
       "      <td>75.803007</td>\n",
       "      <td>11:40</td>\n",
       "      <td>11:45</td>\n",
       "      <td>...</td>\n",
       "      <td>High</td>\n",
       "      <td>1</td>\n",
       "      <td>Drinks</td>\n",
       "      <td>scooter</td>\n",
       "      <td>1.0</td>\n",
       "      <td>No</td>\n",
       "      <td>Metropolitian</td>\n",
       "      <td>object</td>\n",
       "      <td>NaN</td>\n",
       "      <td>Thursday</td>\n",
       "    </tr>\n",
       "    <tr>\n",
       "      <th>11396</th>\n",
       "      <td>0x1ea5</td>\n",
       "      <td>SURRES11DEL03</td>\n",
       "      <td>NaN</td>\n",
       "      <td>NaN</td>\n",
       "      <td>21.157735</td>\n",
       "      <td>72.768778</td>\n",
       "      <td>21.217735</td>\n",
       "      <td>72.828778</td>\n",
       "      <td>NaN</td>\n",
       "      <td>21:05</td>\n",
       "      <td>...</td>\n",
       "      <td>NaN</td>\n",
       "      <td>3</td>\n",
       "      <td>Drinks</td>\n",
       "      <td>scooter</td>\n",
       "      <td>1.0</td>\n",
       "      <td>No</td>\n",
       "      <td>Metropolitian</td>\n",
       "      <td>object</td>\n",
       "      <td>NaN</td>\n",
       "      <td>Thursday</td>\n",
       "    </tr>\n",
       "    <tr>\n",
       "      <th>11397</th>\n",
       "      <td>0x22d4</td>\n",
       "      <td>VADRES03DEL02</td>\n",
       "      <td>27.0</td>\n",
       "      <td>4.7</td>\n",
       "      <td>22.320000</td>\n",
       "      <td>73.170000</td>\n",
       "      <td>22.450000</td>\n",
       "      <td>73.300000</td>\n",
       "      <td>18:35</td>\n",
       "      <td>18:40</td>\n",
       "      <td>...</td>\n",
       "      <td>Medium</td>\n",
       "      <td>0</td>\n",
       "      <td>Meal</td>\n",
       "      <td>motorcycle</td>\n",
       "      <td>0.0</td>\n",
       "      <td>No</td>\n",
       "      <td>Metropolitian</td>\n",
       "      <td>object</td>\n",
       "      <td>NaN</td>\n",
       "      <td>Friday</td>\n",
       "    </tr>\n",
       "    <tr>\n",
       "      <th>11398</th>\n",
       "      <td>0xb7be</td>\n",
       "      <td>CHENRES07DEL02</td>\n",
       "      <td>39.0</td>\n",
       "      <td>5.0</td>\n",
       "      <td>13.081878</td>\n",
       "      <td>80.248519</td>\n",
       "      <td>13.131878</td>\n",
       "      <td>80.298519</td>\n",
       "      <td>22:20</td>\n",
       "      <td>22:25</td>\n",
       "      <td>...</td>\n",
       "      <td>Low</td>\n",
       "      <td>2</td>\n",
       "      <td>Drinks</td>\n",
       "      <td>motorcycle</td>\n",
       "      <td>1.0</td>\n",
       "      <td>No</td>\n",
       "      <td>Urban</td>\n",
       "      <td>object</td>\n",
       "      <td>NaN</td>\n",
       "      <td>Thursday</td>\n",
       "    </tr>\n",
       "  </tbody>\n",
       "</table>\n",
       "<p>11399 rows × 21 columns</p>\n",
       "</div>"
      ],
      "text/plain": [
       "           ID Delivery_person_ID  Delivery_person_Age  \\\n",
       "0      0x2318    COIMBRES13DEL01                  NaN   \n",
       "1      0x3474     BANGRES15DEL01                 28.0   \n",
       "2      0x9420      JAPRES09DEL03                 23.0   \n",
       "3      0x72ee      JAPRES07DEL03                 21.0   \n",
       "4      0xa759     CHENRES19DEL01                 31.0   \n",
       "...       ...                ...                  ...   \n",
       "11394  0x6909      JAPRES01DEL01                 35.0   \n",
       "11395  0x443b      JAPRES11DEL01                 33.0   \n",
       "11396  0x1ea5      SURRES11DEL03                  NaN   \n",
       "11397  0x22d4      VADRES03DEL02                 27.0   \n",
       "11398  0xb7be     CHENRES07DEL02                 39.0   \n",
       "\n",
       "       Delivery_person_Ratings  Restaurant_latitude  Restaurant_longitude  \\\n",
       "0                          NaN            11.003669             76.976494   \n",
       "1                          4.6            12.975377             77.696664   \n",
       "2                          4.5            26.911378             75.789034   \n",
       "3                          4.8            26.766536             75.837333   \n",
       "4                          4.6            12.986047             80.218114   \n",
       "...                        ...                  ...                   ...   \n",
       "11394                      4.6            26.905190             75.810753   \n",
       "11395                      4.9            26.902940             75.793007   \n",
       "11396                      NaN            21.157735             72.768778   \n",
       "11397                      4.7            22.320000             73.170000   \n",
       "11398                      5.0            13.081878             80.248519   \n",
       "\n",
       "       Delivery_location_latitude  Delivery_location_longitude Time_Orderd  \\\n",
       "0                       11.043669                    77.016494         NaN   \n",
       "1                       13.085377                    77.806664       20:30   \n",
       "2                       27.001378                    75.879034       19:35   \n",
       "3                       26.856536                    75.927333       17:15   \n",
       "4                       13.096047                    80.328114       18:25   \n",
       "...                           ...                          ...         ...   \n",
       "11394                   27.015190                    75.920753       21:35   \n",
       "11395                   26.912940                    75.803007       11:40   \n",
       "11396                   21.217735                    72.828778         NaN   \n",
       "11397                   22.450000                    73.300000       18:35   \n",
       "11398                   13.131878                    80.298519       22:20   \n",
       "\n",
       "      Time_Order_picked  ... Road_traffic_density Vehicle_condition  \\\n",
       "0                 15:05  ...                  NaN                 3   \n",
       "1                 20:35  ...                  Jam                 0   \n",
       "2                 19:45  ...                  Jam                 0   \n",
       "3                 17:20  ...               Medium                 1   \n",
       "4                 18:40  ...               Medium                 2   \n",
       "...                 ...  ...                  ...               ...   \n",
       "11394             21:45  ...                  Jam                 1   \n",
       "11395             11:45  ...                 High                 1   \n",
       "11396             21:05  ...                  NaN                 3   \n",
       "11397             18:40  ...               Medium                 0   \n",
       "11398             22:25  ...                  Low                 2   \n",
       "\n",
       "       Type_of_order   Type_of_vehicle multiple_deliveries  Festival  \\\n",
       "0             Drinks  electric_scooter                 1.0        No   \n",
       "1              Snack        motorcycle                 1.0        No   \n",
       "2             Drinks        motorcycle                 1.0        No   \n",
       "3               Meal           scooter                 1.0        No   \n",
       "4             Drinks           scooter                 1.0        No   \n",
       "...              ...               ...                 ...       ...   \n",
       "11394          Snack           scooter                 1.0        No   \n",
       "11395         Drinks           scooter                 1.0        No   \n",
       "11396         Drinks           scooter                 1.0        No   \n",
       "11397           Meal        motorcycle                 0.0        No   \n",
       "11398         Drinks        motorcycle                 1.0        No   \n",
       "\n",
       "                City   Name: Time_taken       Days  \n",
       "0      Metropolitian  object       24.0  Wednesday  \n",
       "1      Metropolitian  object       33.0    Tuesday  \n",
       "2      Metropolitian  object       42.0     Monday  \n",
       "3      Metropolitian  object       19.0     Friday  \n",
       "4      Metropolitian  object       25.0     Sunday  \n",
       "...              ...     ...        ...        ...  \n",
       "11394  Metropolitian  object        NaN     Sunday  \n",
       "11395  Metropolitian  object        NaN   Thursday  \n",
       "11396  Metropolitian  object        NaN   Thursday  \n",
       "11397  Metropolitian  object        NaN     Friday  \n",
       "11398          Urban  object        NaN   Thursday  \n",
       "\n",
       "[11399 rows x 21 columns]"
      ]
     },
     "execution_count": 8,
     "metadata": {},
     "output_type": "execute_result"
    }
   ],
   "source": [
    "food.drop(['Order_Date'],axis='columns')\n"
   ]
  },
  {
   "cell_type": "code",
   "execution_count": 9,
   "id": "cb527c39",
   "metadata": {},
   "outputs": [],
   "source": [
    "import math\n",
    "from math import radians, sin, cos, acos\n",
    "\n",
    "def distance(restaurant, destination):\n",
    "\n",
    "    lat1, long1 = restaurant\n",
    "    lat2, long2 = destination\n",
    "    radius = 6371\n",
    "    # distance in kilometers\n",
    "\n",
    "    dlat = math.radians(lat2 - lat1)\n",
    "    dlong = math.radians(long2 - long1)\n",
    "    \n",
    "    a = (math.sin(dlat / 2) * math.sin(dlat / 2) + math.cos(math.radians(lat1)) * math.cos(math.radians(lat2)) * math.sin(dlong / 2) * math.sin(dlong / 2))\n",
    "    c = 2 * math.atan2(math.sqrt(a), math.sqrt(1 - a))\n",
    "    d = radius * c\n",
    "\n",
    "    return d"
   ]
  },
  {
   "cell_type": "code",
   "execution_count": 10,
   "id": "418b1a52",
   "metadata": {},
   "outputs": [],
   "source": [
    "food['distance_km'] = food.apply(lambda x: distance((x['Restaurant_latitude'], x['Restaurant_longitude']), (x['Delivery_location_latitude'], x['Delivery_location_longitude'])), axis=1)"
   ]
  },
  {
   "cell_type": "code",
   "execution_count": 11,
   "id": "8fada32d",
   "metadata": {},
   "outputs": [
    {
     "data": {
      "text/html": [
       "<div>\n",
       "<style scoped>\n",
       "    .dataframe tbody tr th:only-of-type {\n",
       "        vertical-align: middle;\n",
       "    }\n",
       "\n",
       "    .dataframe tbody tr th {\n",
       "        vertical-align: top;\n",
       "    }\n",
       "\n",
       "    .dataframe thead th {\n",
       "        text-align: right;\n",
       "    }\n",
       "</style>\n",
       "<table border=\"1\" class=\"dataframe\">\n",
       "  <thead>\n",
       "    <tr style=\"text-align: right;\">\n",
       "      <th></th>\n",
       "      <th>ID</th>\n",
       "      <th>Delivery_person_ID</th>\n",
       "      <th>Delivery_person_Age</th>\n",
       "      <th>Delivery_person_Ratings</th>\n",
       "      <th>Restaurant_latitude</th>\n",
       "      <th>Restaurant_longitude</th>\n",
       "      <th>Delivery_location_latitude</th>\n",
       "      <th>Delivery_location_longitude</th>\n",
       "      <th>Order_Date</th>\n",
       "      <th>Time_Orderd</th>\n",
       "      <th>...</th>\n",
       "      <th>Vehicle_condition</th>\n",
       "      <th>Type_of_order</th>\n",
       "      <th>Type_of_vehicle</th>\n",
       "      <th>multiple_deliveries</th>\n",
       "      <th>Festival</th>\n",
       "      <th>City</th>\n",
       "      <th>Name:</th>\n",
       "      <th>Time_taken</th>\n",
       "      <th>Days</th>\n",
       "      <th>distance_km</th>\n",
       "    </tr>\n",
       "  </thead>\n",
       "  <tbody>\n",
       "    <tr>\n",
       "      <th>0</th>\n",
       "      <td>0x2318</td>\n",
       "      <td>COIMBRES13DEL01</td>\n",
       "      <td>NaN</td>\n",
       "      <td>NaN</td>\n",
       "      <td>11.003669</td>\n",
       "      <td>76.976494</td>\n",
       "      <td>11.043669</td>\n",
       "      <td>77.016494</td>\n",
       "      <td>2022-03-30</td>\n",
       "      <td>NaN</td>\n",
       "      <td>...</td>\n",
       "      <td>3</td>\n",
       "      <td>Drinks</td>\n",
       "      <td>electric_scooter</td>\n",
       "      <td>1.0</td>\n",
       "      <td>No</td>\n",
       "      <td>Metropolitian</td>\n",
       "      <td>object</td>\n",
       "      <td>24.0</td>\n",
       "      <td>Wednesday</td>\n",
       "      <td>6.232373</td>\n",
       "    </tr>\n",
       "    <tr>\n",
       "      <th>1</th>\n",
       "      <td>0x3474</td>\n",
       "      <td>BANGRES15DEL01</td>\n",
       "      <td>28.0</td>\n",
       "      <td>4.6</td>\n",
       "      <td>12.975377</td>\n",
       "      <td>77.696664</td>\n",
       "      <td>13.085377</td>\n",
       "      <td>77.806664</td>\n",
       "      <td>2022-03-29</td>\n",
       "      <td>20:30</td>\n",
       "      <td>...</td>\n",
       "      <td>0</td>\n",
       "      <td>Snack</td>\n",
       "      <td>motorcycle</td>\n",
       "      <td>1.0</td>\n",
       "      <td>No</td>\n",
       "      <td>Metropolitian</td>\n",
       "      <td>object</td>\n",
       "      <td>33.0</td>\n",
       "      <td>Tuesday</td>\n",
       "      <td>17.076617</td>\n",
       "    </tr>\n",
       "    <tr>\n",
       "      <th>2</th>\n",
       "      <td>0x9420</td>\n",
       "      <td>JAPRES09DEL03</td>\n",
       "      <td>23.0</td>\n",
       "      <td>4.5</td>\n",
       "      <td>26.911378</td>\n",
       "      <td>75.789034</td>\n",
       "      <td>27.001378</td>\n",
       "      <td>75.879034</td>\n",
       "      <td>2022-10-03</td>\n",
       "      <td>19:35</td>\n",
       "      <td>...</td>\n",
       "      <td>0</td>\n",
       "      <td>Drinks</td>\n",
       "      <td>motorcycle</td>\n",
       "      <td>1.0</td>\n",
       "      <td>No</td>\n",
       "      <td>Metropolitian</td>\n",
       "      <td>object</td>\n",
       "      <td>42.0</td>\n",
       "      <td>Monday</td>\n",
       "      <td>13.406029</td>\n",
       "    </tr>\n",
       "    <tr>\n",
       "      <th>3</th>\n",
       "      <td>0x72ee</td>\n",
       "      <td>JAPRES07DEL03</td>\n",
       "      <td>21.0</td>\n",
       "      <td>4.8</td>\n",
       "      <td>26.766536</td>\n",
       "      <td>75.837333</td>\n",
       "      <td>26.856536</td>\n",
       "      <td>75.927333</td>\n",
       "      <td>2022-02-04</td>\n",
       "      <td>17:15</td>\n",
       "      <td>...</td>\n",
       "      <td>1</td>\n",
       "      <td>Meal</td>\n",
       "      <td>scooter</td>\n",
       "      <td>1.0</td>\n",
       "      <td>No</td>\n",
       "      <td>Metropolitian</td>\n",
       "      <td>object</td>\n",
       "      <td>19.0</td>\n",
       "      <td>Friday</td>\n",
       "      <td>13.413644</td>\n",
       "    </tr>\n",
       "    <tr>\n",
       "      <th>4</th>\n",
       "      <td>0xa759</td>\n",
       "      <td>CHENRES19DEL01</td>\n",
       "      <td>31.0</td>\n",
       "      <td>4.6</td>\n",
       "      <td>12.986047</td>\n",
       "      <td>80.218114</td>\n",
       "      <td>13.096047</td>\n",
       "      <td>80.328114</td>\n",
       "      <td>2022-03-27</td>\n",
       "      <td>18:25</td>\n",
       "      <td>...</td>\n",
       "      <td>2</td>\n",
       "      <td>Drinks</td>\n",
       "      <td>scooter</td>\n",
       "      <td>1.0</td>\n",
       "      <td>No</td>\n",
       "      <td>Metropolitian</td>\n",
       "      <td>object</td>\n",
       "      <td>25.0</td>\n",
       "      <td>Sunday</td>\n",
       "      <td>17.076259</td>\n",
       "    </tr>\n",
       "  </tbody>\n",
       "</table>\n",
       "<p>5 rows × 23 columns</p>\n",
       "</div>"
      ],
      "text/plain": [
       "       ID Delivery_person_ID  Delivery_person_Age  Delivery_person_Ratings  \\\n",
       "0  0x2318    COIMBRES13DEL01                  NaN                      NaN   \n",
       "1  0x3474     BANGRES15DEL01                 28.0                      4.6   \n",
       "2  0x9420      JAPRES09DEL03                 23.0                      4.5   \n",
       "3  0x72ee      JAPRES07DEL03                 21.0                      4.8   \n",
       "4  0xa759     CHENRES19DEL01                 31.0                      4.6   \n",
       "\n",
       "   Restaurant_latitude  Restaurant_longitude  Delivery_location_latitude  \\\n",
       "0            11.003669             76.976494                   11.043669   \n",
       "1            12.975377             77.696664                   13.085377   \n",
       "2            26.911378             75.789034                   27.001378   \n",
       "3            26.766536             75.837333                   26.856536   \n",
       "4            12.986047             80.218114                   13.096047   \n",
       "\n",
       "   Delivery_location_longitude Order_Date Time_Orderd  ... Vehicle_condition  \\\n",
       "0                    77.016494 2022-03-30         NaN  ...                 3   \n",
       "1                    77.806664 2022-03-29       20:30  ...                 0   \n",
       "2                    75.879034 2022-10-03       19:35  ...                 0   \n",
       "3                    75.927333 2022-02-04       17:15  ...                 1   \n",
       "4                    80.328114 2022-03-27       18:25  ...                 2   \n",
       "\n",
       "  Type_of_order   Type_of_vehicle  multiple_deliveries Festival  \\\n",
       "0        Drinks  electric_scooter                  1.0       No   \n",
       "1         Snack        motorcycle                  1.0       No   \n",
       "2        Drinks        motorcycle                  1.0       No   \n",
       "3          Meal           scooter                  1.0       No   \n",
       "4        Drinks           scooter                  1.0       No   \n",
       "\n",
       "            City   Name: Time_taken       Days distance_km  \n",
       "0  Metropolitian  object       24.0  Wednesday    6.232373  \n",
       "1  Metropolitian  object       33.0    Tuesday   17.076617  \n",
       "2  Metropolitian  object       42.0     Monday   13.406029  \n",
       "3  Metropolitian  object       19.0     Friday   13.413644  \n",
       "4  Metropolitian  object       25.0     Sunday   17.076259  \n",
       "\n",
       "[5 rows x 23 columns]"
      ]
     },
     "execution_count": 11,
     "metadata": {},
     "output_type": "execute_result"
    }
   ],
   "source": [
    "food.head()"
   ]
  },
  {
   "cell_type": "code",
   "execution_count": 12,
   "id": "33a7ee3b",
   "metadata": {},
   "outputs": [
    {
     "data": {
      "text/html": [
       "<div>\n",
       "<style scoped>\n",
       "    .dataframe tbody tr th:only-of-type {\n",
       "        vertical-align: middle;\n",
       "    }\n",
       "\n",
       "    .dataframe tbody tr th {\n",
       "        vertical-align: top;\n",
       "    }\n",
       "\n",
       "    .dataframe thead th {\n",
       "        text-align: right;\n",
       "    }\n",
       "</style>\n",
       "<table border=\"1\" class=\"dataframe\">\n",
       "  <thead>\n",
       "    <tr style=\"text-align: right;\">\n",
       "      <th></th>\n",
       "      <th>ID</th>\n",
       "      <th>Delivery_person_ID</th>\n",
       "      <th>Delivery_person_Age</th>\n",
       "      <th>Delivery_person_Ratings</th>\n",
       "      <th>Restaurant_latitude</th>\n",
       "      <th>Restaurant_longitude</th>\n",
       "      <th>Delivery_location_latitude</th>\n",
       "      <th>Delivery_location_longitude</th>\n",
       "      <th>Order_Date</th>\n",
       "      <th>Time_Orderd</th>\n",
       "      <th>...</th>\n",
       "      <th>Vehicle_condition</th>\n",
       "      <th>Type_of_order</th>\n",
       "      <th>Type_of_vehicle</th>\n",
       "      <th>multiple_deliveries</th>\n",
       "      <th>Festival</th>\n",
       "      <th>City</th>\n",
       "      <th>Name:</th>\n",
       "      <th>Time_taken</th>\n",
       "      <th>Days</th>\n",
       "      <th>distance_km</th>\n",
       "    </tr>\n",
       "  </thead>\n",
       "  <tbody>\n",
       "    <tr>\n",
       "      <th>0</th>\n",
       "      <td>0x2318</td>\n",
       "      <td>COIMBRES13DEL01</td>\n",
       "      <td>NaN</td>\n",
       "      <td>NaN</td>\n",
       "      <td>11.003669</td>\n",
       "      <td>76.976494</td>\n",
       "      <td>11.043669</td>\n",
       "      <td>77.016494</td>\n",
       "      <td>2022-03-30</td>\n",
       "      <td>NaN</td>\n",
       "      <td>...</td>\n",
       "      <td>3</td>\n",
       "      <td>Drinks</td>\n",
       "      <td>electric_scooter</td>\n",
       "      <td>1.0</td>\n",
       "      <td>No</td>\n",
       "      <td>Metropolitian</td>\n",
       "      <td>object</td>\n",
       "      <td>24.0</td>\n",
       "      <td>Wednesday</td>\n",
       "      <td>6.232373</td>\n",
       "    </tr>\n",
       "    <tr>\n",
       "      <th>1</th>\n",
       "      <td>0x3474</td>\n",
       "      <td>BANGRES15DEL01</td>\n",
       "      <td>28.0</td>\n",
       "      <td>4.6</td>\n",
       "      <td>12.975377</td>\n",
       "      <td>77.696664</td>\n",
       "      <td>13.085377</td>\n",
       "      <td>77.806664</td>\n",
       "      <td>2022-03-29</td>\n",
       "      <td>20:30</td>\n",
       "      <td>...</td>\n",
       "      <td>0</td>\n",
       "      <td>Snack</td>\n",
       "      <td>motorcycle</td>\n",
       "      <td>1.0</td>\n",
       "      <td>No</td>\n",
       "      <td>Metropolitian</td>\n",
       "      <td>object</td>\n",
       "      <td>33.0</td>\n",
       "      <td>Tuesday</td>\n",
       "      <td>17.076617</td>\n",
       "    </tr>\n",
       "    <tr>\n",
       "      <th>2</th>\n",
       "      <td>0x9420</td>\n",
       "      <td>JAPRES09DEL03</td>\n",
       "      <td>23.0</td>\n",
       "      <td>4.5</td>\n",
       "      <td>26.911378</td>\n",
       "      <td>75.789034</td>\n",
       "      <td>27.001378</td>\n",
       "      <td>75.879034</td>\n",
       "      <td>2022-10-03</td>\n",
       "      <td>19:35</td>\n",
       "      <td>...</td>\n",
       "      <td>0</td>\n",
       "      <td>Drinks</td>\n",
       "      <td>motorcycle</td>\n",
       "      <td>1.0</td>\n",
       "      <td>No</td>\n",
       "      <td>Metropolitian</td>\n",
       "      <td>object</td>\n",
       "      <td>42.0</td>\n",
       "      <td>Monday</td>\n",
       "      <td>13.406029</td>\n",
       "    </tr>\n",
       "    <tr>\n",
       "      <th>3</th>\n",
       "      <td>0x72ee</td>\n",
       "      <td>JAPRES07DEL03</td>\n",
       "      <td>21.0</td>\n",
       "      <td>4.8</td>\n",
       "      <td>26.766536</td>\n",
       "      <td>75.837333</td>\n",
       "      <td>26.856536</td>\n",
       "      <td>75.927333</td>\n",
       "      <td>2022-02-04</td>\n",
       "      <td>17:15</td>\n",
       "      <td>...</td>\n",
       "      <td>1</td>\n",
       "      <td>Meal</td>\n",
       "      <td>scooter</td>\n",
       "      <td>1.0</td>\n",
       "      <td>No</td>\n",
       "      <td>Metropolitian</td>\n",
       "      <td>object</td>\n",
       "      <td>19.0</td>\n",
       "      <td>Friday</td>\n",
       "      <td>13.413644</td>\n",
       "    </tr>\n",
       "    <tr>\n",
       "      <th>4</th>\n",
       "      <td>0xa759</td>\n",
       "      <td>CHENRES19DEL01</td>\n",
       "      <td>31.0</td>\n",
       "      <td>4.6</td>\n",
       "      <td>12.986047</td>\n",
       "      <td>80.218114</td>\n",
       "      <td>13.096047</td>\n",
       "      <td>80.328114</td>\n",
       "      <td>2022-03-27</td>\n",
       "      <td>18:25</td>\n",
       "      <td>...</td>\n",
       "      <td>2</td>\n",
       "      <td>Drinks</td>\n",
       "      <td>scooter</td>\n",
       "      <td>1.0</td>\n",
       "      <td>No</td>\n",
       "      <td>Metropolitian</td>\n",
       "      <td>object</td>\n",
       "      <td>25.0</td>\n",
       "      <td>Sunday</td>\n",
       "      <td>17.076259</td>\n",
       "    </tr>\n",
       "  </tbody>\n",
       "</table>\n",
       "<p>5 rows × 23 columns</p>\n",
       "</div>"
      ],
      "text/plain": [
       "       ID Delivery_person_ID  Delivery_person_Age  Delivery_person_Ratings  \\\n",
       "0  0x2318    COIMBRES13DEL01                  NaN                      NaN   \n",
       "1  0x3474     BANGRES15DEL01                 28.0                      4.6   \n",
       "2  0x9420      JAPRES09DEL03                 23.0                      4.5   \n",
       "3  0x72ee      JAPRES07DEL03                 21.0                      4.8   \n",
       "4  0xa759     CHENRES19DEL01                 31.0                      4.6   \n",
       "\n",
       "   Restaurant_latitude  Restaurant_longitude  Delivery_location_latitude  \\\n",
       "0            11.003669             76.976494                   11.043669   \n",
       "1            12.975377             77.696664                   13.085377   \n",
       "2            26.911378             75.789034                   27.001378   \n",
       "3            26.766536             75.837333                   26.856536   \n",
       "4            12.986047             80.218114                   13.096047   \n",
       "\n",
       "   Delivery_location_longitude Order_Date Time_Orderd  ... Vehicle_condition  \\\n",
       "0                    77.016494 2022-03-30         NaN  ...                 3   \n",
       "1                    77.806664 2022-03-29       20:30  ...                 0   \n",
       "2                    75.879034 2022-10-03       19:35  ...                 0   \n",
       "3                    75.927333 2022-02-04       17:15  ...                 1   \n",
       "4                    80.328114 2022-03-27       18:25  ...                 2   \n",
       "\n",
       "  Type_of_order   Type_of_vehicle  multiple_deliveries Festival  \\\n",
       "0        Drinks  electric_scooter                  1.0       No   \n",
       "1         Snack        motorcycle                  1.0       No   \n",
       "2        Drinks        motorcycle                  1.0       No   \n",
       "3          Meal           scooter                  1.0       No   \n",
       "4        Drinks           scooter                  1.0       No   \n",
       "\n",
       "            City   Name: Time_taken       Days distance_km  \n",
       "0  Metropolitian  object       24.0  Wednesday    6.232373  \n",
       "1  Metropolitian  object       33.0    Tuesday   17.076617  \n",
       "2  Metropolitian  object       42.0     Monday   13.406029  \n",
       "3  Metropolitian  object       19.0     Friday   13.413644  \n",
       "4  Metropolitian  object       25.0     Sunday   17.076259  \n",
       "\n",
       "[5 rows x 23 columns]"
      ]
     },
     "execution_count": 12,
     "metadata": {},
     "output_type": "execute_result"
    }
   ],
   "source": [
    "food.head()"
   ]
  },
  {
   "cell_type": "code",
   "execution_count": 13,
   "id": "51b74bf7",
   "metadata": {},
   "outputs": [
    {
     "data": {
      "text/plain": [
       "(11399, 23)"
      ]
     },
     "execution_count": 13,
     "metadata": {},
     "output_type": "execute_result"
    }
   ],
   "source": [
    "food.shape"
   ]
  },
  {
   "cell_type": "code",
   "execution_count": 14,
   "id": "8513885c",
   "metadata": {},
   "outputs": [
    {
     "name": "stdout",
     "output_type": "stream",
     "text": [
      "<class 'pandas.core.frame.DataFrame'>\n",
      "RangeIndex: 11399 entries, 0 to 11398\n",
      "Data columns (total 23 columns):\n",
      " #   Column                       Non-Null Count  Dtype         \n",
      "---  ------                       --------------  -----         \n",
      " 0   ID                           11399 non-null  object        \n",
      " 1   Delivery_person_ID           11399 non-null  object        \n",
      " 2   Delivery_person_Age          10908 non-null  float64       \n",
      " 3   Delivery_person_Ratings      10892 non-null  float64       \n",
      " 4   Restaurant_latitude          11399 non-null  float64       \n",
      " 5   Restaurant_longitude         11399 non-null  float64       \n",
      " 6   Delivery_location_latitude   11399 non-null  float64       \n",
      " 7   Delivery_location_longitude  11399 non-null  float64       \n",
      " 8   Order_Date                   11399 non-null  datetime64[ns]\n",
      " 9   Time_Orderd                  10955 non-null  object        \n",
      " 10  Time_Order_picked            11399 non-null  object        \n",
      " 11  Weather                      11241 non-null  object        \n",
      " 12  Road_traffic_density         11245 non-null  object        \n",
      " 13  Vehicle_condition            11399 non-null  int64         \n",
      " 14  Type_of_order                11399 non-null  object        \n",
      " 15  Type_of_vehicle              11399 non-null  object        \n",
      " 16  multiple_deliveries          11161 non-null  float64       \n",
      " 17  Festival                     11334 non-null  object        \n",
      " 18  City                         11075 non-null  object        \n",
      " 19  Name:                        11399 non-null  object        \n",
      " 20  Time_taken                   2442 non-null   float64       \n",
      " 21  Days                         11399 non-null  category      \n",
      " 22  distance_km                  11399 non-null  float64       \n",
      "dtypes: category(1), datetime64[ns](1), float64(9), int64(1), object(11)\n",
      "memory usage: 1.9+ MB\n"
     ]
    }
   ],
   "source": [
    "food.info()"
   ]
  },
  {
   "cell_type": "markdown",
   "id": "312a7b4a",
   "metadata": {},
   "source": [
    "##### checking and filling null values"
   ]
  },
  {
   "cell_type": "code",
   "execution_count": 15,
   "id": "d97642d3",
   "metadata": {},
   "outputs": [
    {
     "data": {
      "text/plain": [
       "ID                                0\n",
       "Delivery_person_ID                0\n",
       "Delivery_person_Age             491\n",
       "Delivery_person_Ratings         507\n",
       "Restaurant_latitude               0\n",
       "Restaurant_longitude              0\n",
       "Delivery_location_latitude        0\n",
       "Delivery_location_longitude       0\n",
       "Order_Date                        0\n",
       "Time_Orderd                     444\n",
       "Time_Order_picked                 0\n",
       "Weather                         158\n",
       "Road_traffic_density            154\n",
       "Vehicle_condition                 0\n",
       "Type_of_order                     0\n",
       "Type_of_vehicle                   0\n",
       "multiple_deliveries             238\n",
       "Festival                         65\n",
       "City                            324\n",
       "Name:                             0\n",
       "Time_taken                     8957\n",
       "Days                              0\n",
       "distance_km                       0\n",
       "dtype: int64"
      ]
     },
     "execution_count": 15,
     "metadata": {},
     "output_type": "execute_result"
    }
   ],
   "source": [
    "food.isnull().sum()"
   ]
  },
  {
   "cell_type": "markdown",
   "id": "794844ba",
   "metadata": {},
   "source": [
    "## EDA and Visualization "
   ]
  },
  {
   "cell_type": "markdown",
   "id": "8d857d51",
   "metadata": {},
   "source": [
    "##### Which days of the week does the restaurant delivers most patronize"
   ]
  },
  {
   "cell_type": "code",
   "execution_count": 16,
   "id": "619e11d3",
   "metadata": {},
   "outputs": [
    {
     "data": {
      "text/plain": [
       "<Figure size 1000x800 with 0 Axes>"
      ]
     },
     "metadata": {},
     "output_type": "display_data"
    },
    {
     "data": {
      "image/png": "[encoded data removed]",
      "text/plain": [
       "<Figure size 1200x600 with 7 Axes>"
      ]
     },
     "metadata": {},
     "output_type": "display_data"
    }
   ],
   "source": [
    "plt.figure(figsize = [10, 8])\n",
    "orderby = ['Monday','Tuesday','Wednesday','Thursday','Friday','Saturday','Sunday'];\n",
    "g = sn.FacetGrid(data = food, col = 'Days',col_wrap = 4,col_order =orderby);\n",
    "plt.title(\"Restaurant days distribution\", y=1.0, fontsize=20, fontweight='bold')\n",
    "g.map(plt.hist, \"distance_km\");\n"
   ]
  },
  {
   "cell_type": "markdown",
   "id": "129d8961",
   "metadata": {},
   "source": [
    "From the graph, it clear that Thursdays are the weekdays that the restaurant delivers most patronize "
   ]
  },
  {
   "cell_type": "markdown",
   "id": "df4c08fc",
   "metadata": {},
   "source": [
    "##### What is the relationship between the time taken to deliver food and the distance travelled? "
   ]
  },
  {
   "cell_type": "code",
   "execution_count": 17,
   "id": "471c472e",
   "metadata": {},
   "outputs": [
    {
     "data": {
      "image/png": "[encoded data removed]",
      "text/plain": [
       "<Figure size 640x480 with 1 Axes>"
      ]
     },
     "metadata": {},
     "output_type": "display_data"
    }
   ],
   "source": [
    "sn.regplot(data = food, x = 'Time_taken', y = 'distance_km');\n",
    "plt.xlabel('Time_taken(min)',fontsize=20)\n",
    "plt.ylabel('distance_km',fontsize=20)\n",
    "plt.title(\" relationship between time_taken and distance\", y=1.0, fontsize=18, fontweight='bold');\n"
   ]
  },
  {
   "cell_type": "markdown",
   "id": "472ef3b1",
   "metadata": {},
   "source": [
    "From the scatter plot, it shows that though they are outliers, there is some correlation between the time taken and the distance."
   ]
  },
  {
   "cell_type": "markdown",
   "id": "ee4e13be",
   "metadata": {},
   "source": [
    "##### What is the correlation between days of the week with respect to the type of vehicle used to deliver food and the distance covered? "
   ]
  },
  {
   "cell_type": "code",
   "execution_count": 18,
   "id": "bd7025b7",
   "metadata": {},
   "outputs": [
    {
     "data": {
      "image/png": "[encoded data removed]",
      "text/plain": [
       "<Figure size 1000x800 with 1 Axes>"
      ]
     },
     "metadata": {},
     "output_type": "display_data"
    }
   ],
   "source": [
    "plt.figure(figsize = [10, 8])\n",
    "sn.barplot(data=food, x='Days', y='distance_km', hue='Type_of_vehicle', dodge=0.3,order = orderby);\n",
    "plt.title(\"food distribution by day\", y=1.0, fontsize=16, fontweight='bold')\n",
    "plt.xlabel('Day of Week',fontsize=20);\n",
    "plt.ylabel(' distance_km',fontsize=20);"
   ]
  },
  {
   "cell_type": "markdown",
   "id": "ea4c5752",
   "metadata": {},
   "source": [
    "From the diagram above, it shows that the restaurant utilized bicycles the most to cover longer distance on Saturdays"
   ]
  },
  {
   "cell_type": "markdown",
   "id": "51e9d10c",
   "metadata": {},
   "source": [
    "##### From which city does the restaurant get most orders "
   ]
  },
  {
   "cell_type": "code",
   "execution_count": 19,
   "id": "2d244336",
   "metadata": {},
   "outputs": [
    {
     "data": {
      "text/plain": [
       "Metropolitian    8497\n",
       "Urban            2533\n",
       "Semi-Urban         45\n",
       "Name: City, dtype: int64"
      ]
     },
     "execution_count": 19,
     "metadata": {},
     "output_type": "execute_result"
    }
   ],
   "source": [
    "food['City'].value_counts()"
   ]
  },
  {
   "cell_type": "code",
   "execution_count": 20,
   "id": "22bb7c9a",
   "metadata": {},
   "outputs": [
    {
     "data": {
      "text/plain": [
       "0        Metropolitian\n",
       "1        Metropolitian\n",
       "2        Metropolitian\n",
       "3        Metropolitian\n",
       "4        Metropolitian\n",
       "             ...      \n",
       "11394    Metropolitian\n",
       "11395    Metropolitian\n",
       "11396    Metropolitian\n",
       "11397    Metropolitian\n",
       "11398            Urban\n",
       "Name: City, Length: 11399, dtype: object"
      ]
     },
     "execution_count": 20,
     "metadata": {},
     "output_type": "execute_result"
    }
   ],
   "source": [
    "food['City']=food['City'].fillna('non_specified')\n",
    "food['City']"
   ]
  },
  {
   "cell_type": "code",
   "execution_count": 21,
   "id": "1f59dd0d",
   "metadata": {},
   "outputs": [
    {
     "data": {
      "image/png": "[encoded data removed]",
      "text/plain": [
       "<Figure size 640x480 with 1 Axes>"
      ]
     },
     "metadata": {},
     "output_type": "display_data"
    }
   ],
   "source": [
    "plt.pie(food['City'].value_counts().head(10), \n",
    "        labels=food['City'].value_counts().head().index,autopct='%1.1f%%',\n",
    "        colors=['skyblue', 'orange', 'red', 'green'],startangle=90\n",
    "        \n",
    "        \n",
    "       );\n",
    "plt.legend();"
   ]
  },
  {
   "cell_type": "markdown",
   "id": "6585e106",
   "metadata": {},
   "source": [
    "It is clear from the analysis that most people who order from the restaurant are from metropolitian cities"
   ]
  },
  {
   "cell_type": "code",
   "execution_count": 22,
   "id": "c14ff536",
   "metadata": {},
   "outputs": [
    {
     "data": {
      "text/plain": [
       "18:20    123\n",
       "20:55    122\n",
       "23:30    122\n",
       "19:15    120\n",
       "19:20    119\n",
       "        ... \n",
       "13:35     11\n",
       "13:60     11\n",
       "14:60     11\n",
       "12:35     10\n",
       "13:25     10\n",
       "Name: Time_Orderd, Length: 176, dtype: int64"
      ]
     },
     "execution_count": 22,
     "metadata": {},
     "output_type": "execute_result"
    }
   ],
   "source": [
    "food['Time_Orderd'].value_counts()"
   ]
  },
  {
   "cell_type": "markdown",
   "id": "14deb373",
   "metadata": {},
   "source": [
    "##### Does the traffic density influence what time orders are made?"
   ]
  },
  {
   "cell_type": "code",
   "execution_count": 23,
   "id": "020beba4",
   "metadata": {},
   "outputs": [],
   "source": [
    "food['Road_traffic_density']=food['Road_traffic_density'].fillna('non_specified')\n"
   ]
  },
  {
   "cell_type": "code",
   "execution_count": 24,
   "id": "82f38dd6",
   "metadata": {},
   "outputs": [
    {
     "data": {
      "text/plain": [
       "Low              3881\n",
       "Jam              3503\n",
       "Medium           2751\n",
       "High             1110\n",
       "non_specified     154\n",
       "Name: Road_traffic_density, dtype: int64"
      ]
     },
     "execution_count": 24,
     "metadata": {},
     "output_type": "execute_result"
    }
   ],
   "source": [
    "food['Road_traffic_density'].value_counts()"
   ]
  },
  {
   "cell_type": "code",
   "execution_count": 25,
   "id": "069ff19d",
   "metadata": {},
   "outputs": [
    {
     "data": {
      "text/plain": [
       "Road_traffic_density  Time_Orderd\n",
       "Medium                18:20          123\n",
       "Low                   23:30          122\n",
       "Jam                   20:55          122\n",
       "                      19:15          120\n",
       "                      19:20          119\n",
       "                      21:45          118\n",
       "Low                   23:60          118\n",
       "                      22:40          118\n",
       "Medium                18:30          118\n",
       "Low                   23:10          117\n",
       "Name: Time_Orderd, dtype: int64"
      ]
     },
     "execution_count": 25,
     "metadata": {},
     "output_type": "execute_result"
    }
   ],
   "source": [
    "State_traffic_density=food.groupby('Road_traffic_density')['Time_Orderd'].value_counts().sort_values(ascending=False).head(10)\n",
    "State_traffic_density"
   ]
  },
  {
   "cell_type": "code",
   "execution_count": 26,
   "id": "12475035",
   "metadata": {},
   "outputs": [
    {
     "data": {
      "image/png": "[encoded data removed]",
      "text/plain": [
       "<Figure size 1000x800 with 1 Axes>"
      ]
     },
     "metadata": {},
     "output_type": "display_data"
    }
   ],
   "source": [
    "State_traffic_density.plot(x='Road_traffic_density',y='Time_Orderd',kind='bar',figsize=(10,8));"
   ]
  },
  {
   "cell_type": "markdown",
   "id": "f3f67042",
   "metadata": {},
   "source": [
    "Most of the orders are made after 17h where the trafic density is not high"
   ]
  },
  {
   "cell_type": "markdown",
   "id": "4ae7437e",
   "metadata": {},
   "source": [
    "##### What order type is more prefered, creat a piechart for type of order"
   ]
  },
  {
   "cell_type": "code",
   "execution_count": 27,
   "id": "b2056c78",
   "metadata": {},
   "outputs": [
    {
     "data": {
      "text/plain": [
       "Drinks    2920\n",
       "Buffet    2870\n",
       "Snack     2815\n",
       "Meal      2794\n",
       "Name: Type_of_order, dtype: int64"
      ]
     },
     "execution_count": 27,
     "metadata": {},
     "output_type": "execute_result"
    }
   ],
   "source": [
    "Order_type=food['Type_of_order'].value_counts()\n",
    "Order_type"
   ]
  },
  {
   "cell_type": "code",
   "execution_count": 28,
   "id": "b75dc832",
   "metadata": {},
   "outputs": [
    {
     "data": {
      "text/plain": [
       "0"
      ]
     },
     "execution_count": 28,
     "metadata": {},
     "output_type": "execute_result"
    }
   ],
   "source": [
    "Order_type=food['Type_of_order'].isnull().sum()\n",
    "Order_type"
   ]
  },
  {
   "cell_type": "code",
   "execution_count": 29,
   "id": "badfd2db",
   "metadata": {},
   "outputs": [
    {
     "data": {
      "image/png": "[encoded data removed]",
      "text/plain": [
       "<Figure size 640x480 with 1 Axes>"
      ]
     },
     "metadata": {},
     "output_type": "display_data"
    }
   ],
   "source": [
    "plt.pie(food['Type_of_order'].value_counts().head(10), \n",
    "        labels=food['Type_of_order'].value_counts().head().index,autopct='%1.1f%%',\n",
    "        colors=['skyblue', 'orange'],startangle=90\n",
    "        \n",
    "        \n",
    "       );\n",
    "plt.legend();"
   ]
  },
  {
   "cell_type": "markdown",
   "id": "811a338f",
   "metadata": {},
   "source": [
    "Per the analsysi, it understood that most customers enjoy drinks compared to Meals"
   ]
  },
  {
   "cell_type": "markdown",
   "id": "67168668",
   "metadata": {},
   "source": [
    "##### Does the weather inflence what people order?"
   ]
  },
  {
   "cell_type": "markdown",
   "id": "8c49a63e",
   "metadata": {},
   "source": [
    "filling in null values for te weather"
   ]
  },
  {
   "cell_type": "code",
   "execution_count": 30,
   "id": "c1b10976",
   "metadata": {},
   "outputs": [
    {
     "data": {
      "text/plain": [
       "0        non_specified\n",
       "1                Windy\n",
       "2               Stormy\n",
       "3                  Fog\n",
       "4                Sunny\n",
       "             ...      \n",
       "11394            Sunny\n",
       "11395       Sandstorms\n",
       "11396    non_specified\n",
       "11397       Sandstorms\n",
       "11398            Windy\n",
       "Name: Weather, Length: 11399, dtype: object"
      ]
     },
     "execution_count": 30,
     "metadata": {},
     "output_type": "execute_result"
    }
   ],
   "source": [
    "food['Weather']=food['Weather'].fillna('non_specified')\n",
    "food['Weather']"
   ]
  },
  {
   "cell_type": "code",
   "execution_count": 31,
   "id": "d10984db",
   "metadata": {},
   "outputs": [
    {
     "data": {
      "text/plain": [
       "Sunny            1975\n",
       "Windy            1948\n",
       "Sandstorms       1878\n",
       "Cloudy           1861\n",
       "Stormy           1811\n",
       "Fog              1768\n",
       "non_specified     158\n",
       "Name: Weather, dtype: int64"
      ]
     },
     "execution_count": 31,
     "metadata": {},
     "output_type": "execute_result"
    }
   ],
   "source": [
    "weather=food['Weather'].value_counts()\n",
    "weather"
   ]
  },
  {
   "cell_type": "code",
   "execution_count": 32,
   "id": "6068d03f",
   "metadata": {},
   "outputs": [
    {
     "data": {
      "image/png": "[encoded data removed]",
      "text/plain": [
       "<Figure size 640x480 with 1 Axes>"
      ]
     },
     "metadata": {},
     "output_type": "display_data"
    }
   ],
   "source": [
    "plt.pie(food['Weather'].value_counts().head(10), \n",
    "        labels=food['Weather'].value_counts().index,autopct='%1.1f%%',\n",
    "        colors=['skyblue', 'orange'],startangle=90\n",
    "        \n",
    "        \n",
    "       );\n"
   ]
  },
  {
   "cell_type": "code",
   "execution_count": 33,
   "id": "1fd6103b",
   "metadata": {},
   "outputs": [
    {
     "data": {
      "text/plain": [
       "Type_of_order  Weather   \n",
       "Drinks         Sunny         517\n",
       "               Windy         507\n",
       "Meal           Sunny         498\n",
       "Snack          Cloudy        491\n",
       "               Windy         485\n",
       "Buffet         Sandstorms    485\n",
       "               Windy         482\n",
       "               Sunny         482\n",
       "Drinks         Stormy        481\n",
       "               Fog           478\n",
       "Name: Weather, dtype: int64"
      ]
     },
     "execution_count": 33,
     "metadata": {},
     "output_type": "execute_result"
    }
   ],
   "source": [
    "Order_Weather=food.groupby('Type_of_order')['Weather'].value_counts().sort_values(ascending=False).head(10)\n",
    "Order_Weather"
   ]
  },
  {
   "cell_type": "code",
   "execution_count": 34,
   "id": "b42cdd6b",
   "metadata": {},
   "outputs": [
    {
     "data": {
      "image/png": "[encoded data removed]",
      "text/plain": [
       "<Figure size 1600x1200 with 1 Axes>"
      ]
     },
     "metadata": {},
     "output_type": "display_data"
    }
   ],
   "source": [
    "Order_Weather.plot(x='Order_type',y='Weather',kind='pie',autopct='%1.1f%%',figsize=(16,12));"
   ]
  },
  {
   "cell_type": "code",
   "execution_count": 35,
   "id": "b9b1677c",
   "metadata": {},
   "outputs": [
    {
     "data": {
      "text/html": [
       "<div>\n",
       "<style scoped>\n",
       "    .dataframe tbody tr th:only-of-type {\n",
       "        vertical-align: middle;\n",
       "    }\n",
       "\n",
       "    .dataframe tbody tr th {\n",
       "        vertical-align: top;\n",
       "    }\n",
       "\n",
       "    .dataframe thead th {\n",
       "        text-align: right;\n",
       "    }\n",
       "</style>\n",
       "<table border=\"1\" class=\"dataframe\">\n",
       "  <thead>\n",
       "    <tr style=\"text-align: right;\">\n",
       "      <th>Type_of_order</th>\n",
       "      <th>Buffet</th>\n",
       "      <th>Drinks</th>\n",
       "      <th>Meal</th>\n",
       "      <th>Snack</th>\n",
       "    </tr>\n",
       "    <tr>\n",
       "      <th>Weather</th>\n",
       "      <th></th>\n",
       "      <th></th>\n",
       "      <th></th>\n",
       "      <th></th>\n",
       "    </tr>\n",
       "  </thead>\n",
       "  <tbody>\n",
       "    <tr>\n",
       "      <th>Cloudy</th>\n",
       "      <td>476</td>\n",
       "      <td>427</td>\n",
       "      <td>467</td>\n",
       "      <td>491</td>\n",
       "    </tr>\n",
       "    <tr>\n",
       "      <th>Fog</th>\n",
       "      <td>440</td>\n",
       "      <td>478</td>\n",
       "      <td>408</td>\n",
       "      <td>442</td>\n",
       "    </tr>\n",
       "    <tr>\n",
       "      <th>Sandstorms</th>\n",
       "      <td>485</td>\n",
       "      <td>473</td>\n",
       "      <td>450</td>\n",
       "      <td>470</td>\n",
       "    </tr>\n",
       "    <tr>\n",
       "      <th>Stormy</th>\n",
       "      <td>475</td>\n",
       "      <td>481</td>\n",
       "      <td>449</td>\n",
       "      <td>406</td>\n",
       "    </tr>\n",
       "    <tr>\n",
       "      <th>Sunny</th>\n",
       "      <td>482</td>\n",
       "      <td>517</td>\n",
       "      <td>498</td>\n",
       "      <td>478</td>\n",
       "    </tr>\n",
       "    <tr>\n",
       "      <th>Windy</th>\n",
       "      <td>482</td>\n",
       "      <td>507</td>\n",
       "      <td>474</td>\n",
       "      <td>485</td>\n",
       "    </tr>\n",
       "    <tr>\n",
       "      <th>non_specified</th>\n",
       "      <td>30</td>\n",
       "      <td>37</td>\n",
       "      <td>48</td>\n",
       "      <td>43</td>\n",
       "    </tr>\n",
       "  </tbody>\n",
       "</table>\n",
       "</div>"
      ],
      "text/plain": [
       "Type_of_order  Buffet  Drinks  Meal  Snack\n",
       "Weather                                   \n",
       "Cloudy            476     427   467    491\n",
       "Fog               440     478   408    442\n",
       "Sandstorms        485     473   450    470\n",
       "Stormy            475     481   449    406\n",
       "Sunny             482     517   498    478\n",
       "Windy             482     507   474    485\n",
       "non_specified      30      37    48     43"
      ]
     },
     "execution_count": 35,
     "metadata": {},
     "output_type": "execute_result"
    }
   ],
   "source": [
    "Order_Weather=food.groupby(['Type_of_order','Weather'])['Weather'].count().unstack('Type_of_order');\n",
    "Order_Weather"
   ]
  },
  {
   "cell_type": "code",
   "execution_count": 36,
   "id": "5d6e2c92",
   "metadata": {},
   "outputs": [],
   "source": [
    "from matplotlib import cm"
   ]
  },
  {
   "cell_type": "code",
   "execution_count": 37,
   "id": "9607deb8",
   "metadata": {},
   "outputs": [],
   "source": [
    "cmap=cm.get_cmap('magma')"
   ]
  },
  {
   "cell_type": "code",
   "execution_count": 38,
   "id": "4e9ac3d9",
   "metadata": {},
   "outputs": [
    {
     "data": {
      "image/png": "[encoded data removed]",
      "text/plain": [
       "<Figure size 1200x1000 with 1 Axes>"
      ]
     },
     "metadata": {},
     "output_type": "display_data"
    }
   ],
   "source": [
    "Order_Weather.plot(kind='bar',stacked=True,figsize=(12,10),cmap=cmap,edgecolor='None');"
   ]
  },
  {
   "cell_type": "markdown",
   "id": "10beaf62",
   "metadata": {},
   "source": [
    "From the chart, it shows that most people prefer to have some drinks on sunny days"
   ]
  },
  {
   "cell_type": "markdown",
   "id": "712579e0",
   "metadata": {},
   "source": [
    "##### What meaans of transportation delievers food faster?"
   ]
  },
  {
   "cell_type": "code",
   "execution_count": 39,
   "id": "48df06b5",
   "metadata": {},
   "outputs": [
    {
     "data": {
      "image/png": "[encoded data removed]",
      "text/plain": [
       "<Figure size 700x700 with 1 Axes>"
      ]
     },
     "metadata": {},
     "output_type": "display_data"
    }
   ],
   "source": [
    "plt.figure(figsize = [7, 7])\n",
    "color = sn.color_palette()[0]\n",
    "sn.countplot(data = food, x = 'Type_of_vehicle', color = color)\n",
    "plt.title('Distribution of type of vehicle',y=1.0, fontsize=16, fontweight='bold')\n",
    "plt.xlabel('Type of vehicle',fontsize=20)\n",
    "plt.ylabel('Number of trips',fontsize=20);"
   ]
  },
  {
   "cell_type": "code",
   "execution_count": 40,
   "id": "e154f0d1",
   "metadata": {},
   "outputs": [
    {
     "data": {
      "text/plain": [
       "motorcycle          6609\n",
       "scooter             3817\n",
       "electric_scooter     950\n",
       "bicycle               23\n",
       "Name: Type_of_vehicle, dtype: int64"
      ]
     },
     "execution_count": 40,
     "metadata": {},
     "output_type": "execute_result"
    }
   ],
   "source": [
    "Transportation=food['Type_of_vehicle'].value_counts()\n",
    "Transportation"
   ]
  },
  {
   "cell_type": "code",
   "execution_count": 41,
   "id": "9f0e7295",
   "metadata": {},
   "outputs": [
    {
     "data": {
      "image/png": "[encoded data removed]",
      "text/plain": [
       "<Figure size 1000x800 with 1 Axes>"
      ]
     },
     "metadata": {},
     "output_type": "display_data"
    }
   ],
   "source": [
    "Transportation.plot(kind='bar',figsize=(10,8),fontsize=16,title=\"Barchart Representation of Type_of_vehicle\", color=\"blue\");"
   ]
  },
  {
   "cell_type": "markdown",
   "id": "b34d31da",
   "metadata": {},
   "source": [
    "From the graph, it is clear that motorcycle is the most preferred vehicle type used by the restaurant"
   ]
  },
  {
   "cell_type": "markdown",
   "id": "d70c8abb",
   "metadata": {},
   "source": [
    "##### What time do people pick their orders most?"
   ]
  },
  {
   "cell_type": "code",
   "execution_count": 42,
   "id": "7bd7467a",
   "metadata": {
    "scrolled": true
   },
   "outputs": [
    {
     "data": {
      "text/plain": [
       "19:25    133\n",
       "23:35    129\n",
       "18:40    127\n",
       "23:50    125\n",
       "17:45    124\n",
       "22:40    123\n",
       "22:45    121\n",
       "20:55    121\n",
       "20:40    118\n",
       "18:35    118\n",
       "Name: Time_Order_picked, dtype: int64"
      ]
     },
     "execution_count": 42,
     "metadata": {},
     "output_type": "execute_result"
    }
   ],
   "source": [
    "Time_picked=food['Time_Order_picked'].value_counts().head(10)\n",
    "Time_picked"
   ]
  },
  {
   "cell_type": "code",
   "execution_count": 43,
   "id": "d1bdad8a",
   "metadata": {},
   "outputs": [
    {
     "data": {
      "image/png": "[encoded data removed]",
      "text/plain": [
       "<Figure size 1000x800 with 1 Axes>"
      ]
     },
     "metadata": {},
     "output_type": "display_data"
    }
   ],
   "source": [
    "Time_picked.plot(kind='bar',figsize=(10,8),fontsize=18,title=\"Barchart Representation of time people pick their orders\", color=\"green\");"
   ]
  },
  {
   "cell_type": "markdown",
   "id": "7c2ab39e",
   "metadata": {},
   "source": [
    " From our analsysi, it shows that most people pick their orders at 19:25"
   ]
  },
  {
   "cell_type": "markdown",
   "id": "e4921696",
   "metadata": {},
   "source": [
    "##### At what time do people make most orders?"
   ]
  },
  {
   "cell_type": "code",
   "execution_count": 44,
   "id": "80c33489",
   "metadata": {},
   "outputs": [
    {
     "data": {
      "text/plain": [
       "18:20    123\n",
       "20:55    122\n",
       "23:30    122\n",
       "19:15    120\n",
       "19:20    119\n",
       "18:30    118\n",
       "22:40    118\n",
       "21:45    118\n",
       "23:60    118\n",
       "23:10    117\n",
       "Name: Time_Orderd, dtype: int64"
      ]
     },
     "execution_count": 44,
     "metadata": {},
     "output_type": "execute_result"
    }
   ],
   "source": [
    "Time_orderd=food['Time_Orderd'].value_counts().head(10)\n",
    "Time_orderd"
   ]
  },
  {
   "cell_type": "code",
   "execution_count": 45,
   "id": "590ed0b1",
   "metadata": {},
   "outputs": [
    {
     "data": {
      "image/png": "[encoded data removed]",
      "text/plain": [
       "<Figure size 1400x800 with 1 Axes>"
      ]
     },
     "metadata": {},
     "output_type": "display_data"
    }
   ],
   "source": [
    "Time_orderd.plot(kind='bar',figsize=(14,8),fontsize=16,title=\"Barchart Representation of time people make their orders\",color=\"blue\");"
   ]
  },
  {
   "cell_type": "markdown",
   "id": "e13e1033",
   "metadata": {},
   "source": [
    "##### Which days are the busiest in the restaurant [which days do customers visit the restaurant the most]"
   ]
  },
  {
   "cell_type": "code",
   "execution_count": 46,
   "id": "3f379223",
   "metadata": {},
   "outputs": [
    {
     "data": {
      "text/plain": [
       "Thursday     1887\n",
       "Monday       1868\n",
       "Wednesday    1766\n",
       "Friday       1658\n",
       "Sunday       1521\n",
       "Saturday     1360\n",
       "Tuesday      1339\n",
       "Name: Days, dtype: int64"
      ]
     },
     "execution_count": 46,
     "metadata": {},
     "output_type": "execute_result"
    }
   ],
   "source": [
    "Days=food['Days'].value_counts().head(10)\n",
    "Days"
   ]
  },
  {
   "cell_type": "code",
   "execution_count": 47,
   "id": "ce78eba2",
   "metadata": {},
   "outputs": [
    {
     "data": {
      "image/png": "[encoded data removed]",
      "text/plain": [
       "<Figure size 1400x1200 with 1 Axes>"
      ]
     },
     "metadata": {},
     "output_type": "display_data"
    }
   ],
   "source": [
    "Days.plot(x='Days',kind='pie',autopct='%1.1f%%',figsize=(14,12));"
   ]
  },
  {
   "cell_type": "markdown",
   "id": "5ce6d1f0",
   "metadata": {},
   "source": [
    "From the pie chart, it shows that Thursdays are the most preferred days customers come to the restaurant. It recorded 16.5% in comparison to Tuesday with a lowest percentage of 11.7% . "
   ]
  },
  {
   "cell_type": "markdown",
   "id": "52ad42ac",
   "metadata": {},
   "source": [
    "## Machine learning scenario\n"
   ]
  },
  {
   "cell_type": "code",
   "execution_count": 48,
   "id": "3b17f804",
   "metadata": {},
   "outputs": [
    {
     "data": {
      "text/html": [
       "<div>\n",
       "<style scoped>\n",
       "    .dataframe tbody tr th:only-of-type {\n",
       "        vertical-align: middle;\n",
       "    }\n",
       "\n",
       "    .dataframe tbody tr th {\n",
       "        vertical-align: top;\n",
       "    }\n",
       "\n",
       "    .dataframe thead th {\n",
       "        text-align: right;\n",
       "    }\n",
       "</style>\n",
       "<table border=\"1\" class=\"dataframe\">\n",
       "  <thead>\n",
       "    <tr style=\"text-align: right;\">\n",
       "      <th></th>\n",
       "      <th>ID</th>\n",
       "      <th>Delivery_person_ID</th>\n",
       "      <th>Delivery_person_Age</th>\n",
       "      <th>Delivery_person_Ratings</th>\n",
       "      <th>Restaurant_latitude</th>\n",
       "      <th>Restaurant_longitude</th>\n",
       "      <th>Delivery_location_latitude</th>\n",
       "      <th>Delivery_location_longitude</th>\n",
       "      <th>Order_Date</th>\n",
       "      <th>Time_Orderd</th>\n",
       "      <th>...</th>\n",
       "      <th>Vehicle_condition</th>\n",
       "      <th>Type_of_order</th>\n",
       "      <th>Type_of_vehicle</th>\n",
       "      <th>multiple_deliveries</th>\n",
       "      <th>Festival</th>\n",
       "      <th>City</th>\n",
       "      <th>Name:</th>\n",
       "      <th>Time_taken</th>\n",
       "      <th>Days</th>\n",
       "      <th>distance_km</th>\n",
       "    </tr>\n",
       "  </thead>\n",
       "  <tbody>\n",
       "    <tr>\n",
       "      <th>0</th>\n",
       "      <td>0x2318</td>\n",
       "      <td>COIMBRES13DEL01</td>\n",
       "      <td>NaN</td>\n",
       "      <td>NaN</td>\n",
       "      <td>11.003669</td>\n",
       "      <td>76.976494</td>\n",
       "      <td>11.043669</td>\n",
       "      <td>77.016494</td>\n",
       "      <td>2022-03-30</td>\n",
       "      <td>NaN</td>\n",
       "      <td>...</td>\n",
       "      <td>3</td>\n",
       "      <td>Drinks</td>\n",
       "      <td>electric_scooter</td>\n",
       "      <td>1.0</td>\n",
       "      <td>No</td>\n",
       "      <td>Metropolitian</td>\n",
       "      <td>object</td>\n",
       "      <td>24.0</td>\n",
       "      <td>Wednesday</td>\n",
       "      <td>6.232373</td>\n",
       "    </tr>\n",
       "    <tr>\n",
       "      <th>1</th>\n",
       "      <td>0x3474</td>\n",
       "      <td>BANGRES15DEL01</td>\n",
       "      <td>28.0</td>\n",
       "      <td>4.6</td>\n",
       "      <td>12.975377</td>\n",
       "      <td>77.696664</td>\n",
       "      <td>13.085377</td>\n",
       "      <td>77.806664</td>\n",
       "      <td>2022-03-29</td>\n",
       "      <td>20:30</td>\n",
       "      <td>...</td>\n",
       "      <td>0</td>\n",
       "      <td>Snack</td>\n",
       "      <td>motorcycle</td>\n",
       "      <td>1.0</td>\n",
       "      <td>No</td>\n",
       "      <td>Metropolitian</td>\n",
       "      <td>object</td>\n",
       "      <td>33.0</td>\n",
       "      <td>Tuesday</td>\n",
       "      <td>17.076617</td>\n",
       "    </tr>\n",
       "    <tr>\n",
       "      <th>2</th>\n",
       "      <td>0x9420</td>\n",
       "      <td>JAPRES09DEL03</td>\n",
       "      <td>23.0</td>\n",
       "      <td>4.5</td>\n",
       "      <td>26.911378</td>\n",
       "      <td>75.789034</td>\n",
       "      <td>27.001378</td>\n",
       "      <td>75.879034</td>\n",
       "      <td>2022-10-03</td>\n",
       "      <td>19:35</td>\n",
       "      <td>...</td>\n",
       "      <td>0</td>\n",
       "      <td>Drinks</td>\n",
       "      <td>motorcycle</td>\n",
       "      <td>1.0</td>\n",
       "      <td>No</td>\n",
       "      <td>Metropolitian</td>\n",
       "      <td>object</td>\n",
       "      <td>42.0</td>\n",
       "      <td>Monday</td>\n",
       "      <td>13.406029</td>\n",
       "    </tr>\n",
       "    <tr>\n",
       "      <th>3</th>\n",
       "      <td>0x72ee</td>\n",
       "      <td>JAPRES07DEL03</td>\n",
       "      <td>21.0</td>\n",
       "      <td>4.8</td>\n",
       "      <td>26.766536</td>\n",
       "      <td>75.837333</td>\n",
       "      <td>26.856536</td>\n",
       "      <td>75.927333</td>\n",
       "      <td>2022-02-04</td>\n",
       "      <td>17:15</td>\n",
       "      <td>...</td>\n",
       "      <td>1</td>\n",
       "      <td>Meal</td>\n",
       "      <td>scooter</td>\n",
       "      <td>1.0</td>\n",
       "      <td>No</td>\n",
       "      <td>Metropolitian</td>\n",
       "      <td>object</td>\n",
       "      <td>19.0</td>\n",
       "      <td>Friday</td>\n",
       "      <td>13.413644</td>\n",
       "    </tr>\n",
       "    <tr>\n",
       "      <th>4</th>\n",
       "      <td>0xa759</td>\n",
       "      <td>CHENRES19DEL01</td>\n",
       "      <td>31.0</td>\n",
       "      <td>4.6</td>\n",
       "      <td>12.986047</td>\n",
       "      <td>80.218114</td>\n",
       "      <td>13.096047</td>\n",
       "      <td>80.328114</td>\n",
       "      <td>2022-03-27</td>\n",
       "      <td>18:25</td>\n",
       "      <td>...</td>\n",
       "      <td>2</td>\n",
       "      <td>Drinks</td>\n",
       "      <td>scooter</td>\n",
       "      <td>1.0</td>\n",
       "      <td>No</td>\n",
       "      <td>Metropolitian</td>\n",
       "      <td>object</td>\n",
       "      <td>25.0</td>\n",
       "      <td>Sunday</td>\n",
       "      <td>17.076259</td>\n",
       "    </tr>\n",
       "  </tbody>\n",
       "</table>\n",
       "<p>5 rows × 23 columns</p>\n",
       "</div>"
      ],
      "text/plain": [
       "       ID Delivery_person_ID  Delivery_person_Age  Delivery_person_Ratings  \\\n",
       "0  0x2318    COIMBRES13DEL01                  NaN                      NaN   \n",
       "1  0x3474     BANGRES15DEL01                 28.0                      4.6   \n",
       "2  0x9420      JAPRES09DEL03                 23.0                      4.5   \n",
       "3  0x72ee      JAPRES07DEL03                 21.0                      4.8   \n",
       "4  0xa759     CHENRES19DEL01                 31.0                      4.6   \n",
       "\n",
       "   Restaurant_latitude  Restaurant_longitude  Delivery_location_latitude  \\\n",
       "0            11.003669             76.976494                   11.043669   \n",
       "1            12.975377             77.696664                   13.085377   \n",
       "2            26.911378             75.789034                   27.001378   \n",
       "3            26.766536             75.837333                   26.856536   \n",
       "4            12.986047             80.218114                   13.096047   \n",
       "\n",
       "   Delivery_location_longitude Order_Date Time_Orderd  ... Vehicle_condition  \\\n",
       "0                    77.016494 2022-03-30         NaN  ...                 3   \n",
       "1                    77.806664 2022-03-29       20:30  ...                 0   \n",
       "2                    75.879034 2022-10-03       19:35  ...                 0   \n",
       "3                    75.927333 2022-02-04       17:15  ...                 1   \n",
       "4                    80.328114 2022-03-27       18:25  ...                 2   \n",
       "\n",
       "  Type_of_order   Type_of_vehicle  multiple_deliveries Festival  \\\n",
       "0        Drinks  electric_scooter                  1.0       No   \n",
       "1         Snack        motorcycle                  1.0       No   \n",
       "2        Drinks        motorcycle                  1.0       No   \n",
       "3          Meal           scooter                  1.0       No   \n",
       "4        Drinks           scooter                  1.0       No   \n",
       "\n",
       "            City   Name: Time_taken       Days distance_km  \n",
       "0  Metropolitian  object       24.0  Wednesday    6.232373  \n",
       "1  Metropolitian  object       33.0    Tuesday   17.076617  \n",
       "2  Metropolitian  object       42.0     Monday   13.406029  \n",
       "3  Metropolitian  object       19.0     Friday   13.413644  \n",
       "4  Metropolitian  object       25.0     Sunday   17.076259  \n",
       "\n",
       "[5 rows x 23 columns]"
      ]
     },
     "execution_count": 48,
     "metadata": {},
     "output_type": "execute_result"
    }
   ],
   "source": [
    "food.head()"
   ]
  },
  {
   "cell_type": "code",
   "execution_count": 49,
   "id": "1b912092",
   "metadata": {},
   "outputs": [
    {
     "data": {
      "text/html": [
       "<div>\n",
       "<style scoped>\n",
       "    .dataframe tbody tr th:only-of-type {\n",
       "        vertical-align: middle;\n",
       "    }\n",
       "\n",
       "    .dataframe tbody tr th {\n",
       "        vertical-align: top;\n",
       "    }\n",
       "\n",
       "    .dataframe thead th {\n",
       "        text-align: right;\n",
       "    }\n",
       "</style>\n",
       "<table border=\"1\" class=\"dataframe\">\n",
       "  <thead>\n",
       "    <tr style=\"text-align: right;\">\n",
       "      <th></th>\n",
       "      <th>Type_of_order</th>\n",
       "      <th>Type_of_vehicle</th>\n",
       "      <th>Time_taken</th>\n",
       "      <th>Days</th>\n",
       "      <th>distance_km</th>\n",
       "    </tr>\n",
       "  </thead>\n",
       "  <tbody>\n",
       "    <tr>\n",
       "      <th>0</th>\n",
       "      <td>Drinks</td>\n",
       "      <td>electric_scooter</td>\n",
       "      <td>24.0</td>\n",
       "      <td>Wednesday</td>\n",
       "      <td>6.232373</td>\n",
       "    </tr>\n",
       "    <tr>\n",
       "      <th>1</th>\n",
       "      <td>Snack</td>\n",
       "      <td>motorcycle</td>\n",
       "      <td>33.0</td>\n",
       "      <td>Tuesday</td>\n",
       "      <td>17.076617</td>\n",
       "    </tr>\n",
       "    <tr>\n",
       "      <th>2</th>\n",
       "      <td>Drinks</td>\n",
       "      <td>motorcycle</td>\n",
       "      <td>42.0</td>\n",
       "      <td>Monday</td>\n",
       "      <td>13.406029</td>\n",
       "    </tr>\n",
       "    <tr>\n",
       "      <th>3</th>\n",
       "      <td>Meal</td>\n",
       "      <td>scooter</td>\n",
       "      <td>19.0</td>\n",
       "      <td>Friday</td>\n",
       "      <td>13.413644</td>\n",
       "    </tr>\n",
       "    <tr>\n",
       "      <th>4</th>\n",
       "      <td>Drinks</td>\n",
       "      <td>scooter</td>\n",
       "      <td>25.0</td>\n",
       "      <td>Sunday</td>\n",
       "      <td>17.076259</td>\n",
       "    </tr>\n",
       "    <tr>\n",
       "      <th>5</th>\n",
       "      <td>Drinks</td>\n",
       "      <td>motorcycle</td>\n",
       "      <td>14.0</td>\n",
       "      <td>Tuesday</td>\n",
       "      <td>1.543933</td>\n",
       "    </tr>\n",
       "    <tr>\n",
       "      <th>6</th>\n",
       "      <td>Buffet</td>\n",
       "      <td>scooter</td>\n",
       "      <td>29.0</td>\n",
       "      <td>Tuesday</td>\n",
       "      <td>3.105485</td>\n",
       "    </tr>\n",
       "    <tr>\n",
       "      <th>7</th>\n",
       "      <td>Meal</td>\n",
       "      <td>motorcycle</td>\n",
       "      <td>22.0</td>\n",
       "      <td>Sunday</td>\n",
       "      <td>7.567851</td>\n",
       "    </tr>\n",
       "    <tr>\n",
       "      <th>8</th>\n",
       "      <td>Snack</td>\n",
       "      <td>scooter</td>\n",
       "      <td>28.0</td>\n",
       "      <td>Thursday</td>\n",
       "      <td>13.989512</td>\n",
       "    </tr>\n",
       "    <tr>\n",
       "      <th>9</th>\n",
       "      <td>Meal</td>\n",
       "      <td>motorcycle</td>\n",
       "      <td>12.0</td>\n",
       "      <td>Wednesday</td>\n",
       "      <td>4.610614</td>\n",
       "    </tr>\n",
       "  </tbody>\n",
       "</table>\n",
       "</div>"
      ],
      "text/plain": [
       "  Type_of_order   Type_of_vehicle  Time_taken       Days  distance_km\n",
       "0        Drinks  electric_scooter        24.0  Wednesday     6.232373\n",
       "1         Snack        motorcycle        33.0    Tuesday    17.076617\n",
       "2        Drinks        motorcycle        42.0     Monday    13.406029\n",
       "3          Meal           scooter        19.0     Friday    13.413644\n",
       "4        Drinks           scooter        25.0     Sunday    17.076259\n",
       "5        Drinks        motorcycle        14.0    Tuesday     1.543933\n",
       "6        Buffet           scooter        29.0    Tuesday     3.105485\n",
       "7          Meal        motorcycle        22.0     Sunday     7.567851\n",
       "8         Snack           scooter        28.0   Thursday    13.989512\n",
       "9          Meal        motorcycle        12.0  Wednesday     4.610614"
      ]
     },
     "execution_count": 49,
     "metadata": {},
     "output_type": "execute_result"
    }
   ],
   "source": [
    "food_delivery=food.drop(['ID','Delivery_person_ID','Delivery_person_Age','Delivery_person_Ratings','Weather','Road_traffic_density','Vehicle_condition','multiple_deliveries','Festival','City','Name:','Restaurant_latitude','Restaurant_longitude','Delivery_location_latitude','Delivery_location_longitude','Order_Date','Time_Orderd','Time_Order_picked'],axis='columns')\n",
    "food_delivery.head(10)"
   ]
  },
  {
   "cell_type": "markdown",
   "id": "1ad6d8c8",
   "metadata": {},
   "source": [
    "### Converting some columns from words to digit using labelEncoder and fit transform"
   ]
  },
  {
   "cell_type": "code",
   "execution_count": 50,
   "id": "7a108306",
   "metadata": {},
   "outputs": [],
   "source": [
    "from sklearn.preprocessing import LabelEncoder\n",
    "\n",
    "le_Type_of_order=LabelEncoder()\n",
    "le_Type_of_vehicle=LabelEncoder()\n",
    "le_Days=LabelEncoder()"
   ]
  },
  {
   "cell_type": "code",
   "execution_count": 51,
   "id": "db9e362a",
   "metadata": {},
   "outputs": [],
   "source": [
    "food_delivery['Type_of_order']=le_Type_of_order.fit_transform(food_delivery['Type_of_order'])\n",
    "food_delivery['Type_of_vehicle']=le_Type_of_vehicle.fit_transform(food_delivery['Type_of_vehicle'])\n",
    "food_delivery['Days']=le_Days.fit_transform(food_delivery['Days'])\n"
   ]
  },
  {
   "cell_type": "code",
   "execution_count": 52,
   "id": "897afa09",
   "metadata": {},
   "outputs": [
    {
     "data": {
      "text/html": [
       "<div>\n",
       "<style scoped>\n",
       "    .dataframe tbody tr th:only-of-type {\n",
       "        vertical-align: middle;\n",
       "    }\n",
       "\n",
       "    .dataframe tbody tr th {\n",
       "        vertical-align: top;\n",
       "    }\n",
       "\n",
       "    .dataframe thead th {\n",
       "        text-align: right;\n",
       "    }\n",
       "</style>\n",
       "<table border=\"1\" class=\"dataframe\">\n",
       "  <thead>\n",
       "    <tr style=\"text-align: right;\">\n",
       "      <th></th>\n",
       "      <th>Type_of_order</th>\n",
       "      <th>Type_of_vehicle</th>\n",
       "      <th>Time_taken</th>\n",
       "      <th>Days</th>\n",
       "      <th>distance_km</th>\n",
       "    </tr>\n",
       "  </thead>\n",
       "  <tbody>\n",
       "    <tr>\n",
       "      <th>0</th>\n",
       "      <td>1</td>\n",
       "      <td>1</td>\n",
       "      <td>24.0</td>\n",
       "      <td>6</td>\n",
       "      <td>6.232373</td>\n",
       "    </tr>\n",
       "    <tr>\n",
       "      <th>1</th>\n",
       "      <td>3</td>\n",
       "      <td>2</td>\n",
       "      <td>33.0</td>\n",
       "      <td>5</td>\n",
       "      <td>17.076617</td>\n",
       "    </tr>\n",
       "    <tr>\n",
       "      <th>2</th>\n",
       "      <td>1</td>\n",
       "      <td>2</td>\n",
       "      <td>42.0</td>\n",
       "      <td>1</td>\n",
       "      <td>13.406029</td>\n",
       "    </tr>\n",
       "    <tr>\n",
       "      <th>3</th>\n",
       "      <td>2</td>\n",
       "      <td>3</td>\n",
       "      <td>19.0</td>\n",
       "      <td>0</td>\n",
       "      <td>13.413644</td>\n",
       "    </tr>\n",
       "    <tr>\n",
       "      <th>4</th>\n",
       "      <td>1</td>\n",
       "      <td>3</td>\n",
       "      <td>25.0</td>\n",
       "      <td>3</td>\n",
       "      <td>17.076259</td>\n",
       "    </tr>\n",
       "    <tr>\n",
       "      <th>...</th>\n",
       "      <td>...</td>\n",
       "      <td>...</td>\n",
       "      <td>...</td>\n",
       "      <td>...</td>\n",
       "      <td>...</td>\n",
       "    </tr>\n",
       "    <tr>\n",
       "      <th>11394</th>\n",
       "      <td>3</td>\n",
       "      <td>3</td>\n",
       "      <td>NaN</td>\n",
       "      <td>3</td>\n",
       "      <td>16.384901</td>\n",
       "    </tr>\n",
       "    <tr>\n",
       "      <th>11395</th>\n",
       "      <td>1</td>\n",
       "      <td>3</td>\n",
       "      <td>NaN</td>\n",
       "      <td>4</td>\n",
       "      <td>1.489842</td>\n",
       "    </tr>\n",
       "    <tr>\n",
       "      <th>11396</th>\n",
       "      <td>1</td>\n",
       "      <td>3</td>\n",
       "      <td>NaN</td>\n",
       "      <td>4</td>\n",
       "      <td>9.121874</td>\n",
       "    </tr>\n",
       "    <tr>\n",
       "      <th>11397</th>\n",
       "      <td>2</td>\n",
       "      <td>2</td>\n",
       "      <td>NaN</td>\n",
       "      <td>0</td>\n",
       "      <td>19.687777</td>\n",
       "    </tr>\n",
       "    <tr>\n",
       "      <th>11398</th>\n",
       "      <td>1</td>\n",
       "      <td>2</td>\n",
       "      <td>NaN</td>\n",
       "      <td>4</td>\n",
       "      <td>7.760928</td>\n",
       "    </tr>\n",
       "  </tbody>\n",
       "</table>\n",
       "<p>11399 rows × 5 columns</p>\n",
       "</div>"
      ],
      "text/plain": [
       "       Type_of_order  Type_of_vehicle  Time_taken  Days  distance_km\n",
       "0                  1                1        24.0     6     6.232373\n",
       "1                  3                2        33.0     5    17.076617\n",
       "2                  1                2        42.0     1    13.406029\n",
       "3                  2                3        19.0     0    13.413644\n",
       "4                  1                3        25.0     3    17.076259\n",
       "...              ...              ...         ...   ...          ...\n",
       "11394              3                3         NaN     3    16.384901\n",
       "11395              1                3         NaN     4     1.489842\n",
       "11396              1                3         NaN     4     9.121874\n",
       "11397              2                2         NaN     0    19.687777\n",
       "11398              1                2         NaN     4     7.760928\n",
       "\n",
       "[11399 rows x 5 columns]"
      ]
     },
     "execution_count": 52,
     "metadata": {},
     "output_type": "execute_result"
    }
   ],
   "source": [
    "food_delivery"
   ]
  },
  {
   "cell_type": "markdown",
   "id": "a472b143",
   "metadata": {},
   "source": [
    "checking and filling null values in Time_taken column"
   ]
  },
  {
   "cell_type": "code",
   "execution_count": 53,
   "id": "036bcfd3",
   "metadata": {},
   "outputs": [],
   "source": [
    "import math"
   ]
  },
  {
   "cell_type": "code",
   "execution_count": 54,
   "id": "d5a6b47e",
   "metadata": {},
   "outputs": [
    {
     "data": {
      "text/plain": [
       "26"
      ]
     },
     "execution_count": 54,
     "metadata": {},
     "output_type": "execute_result"
    }
   ],
   "source": [
    "inputs=math.floor(food_delivery['Time_taken'].median())\n",
    "inputs"
   ]
  },
  {
   "cell_type": "code",
   "execution_count": 55,
   "id": "5c66cc08",
   "metadata": {},
   "outputs": [
    {
     "data": {
      "text/html": [
       "<div>\n",
       "<style scoped>\n",
       "    .dataframe tbody tr th:only-of-type {\n",
       "        vertical-align: middle;\n",
       "    }\n",
       "\n",
       "    .dataframe tbody tr th {\n",
       "        vertical-align: top;\n",
       "    }\n",
       "\n",
       "    .dataframe thead th {\n",
       "        text-align: right;\n",
       "    }\n",
       "</style>\n",
       "<table border=\"1\" class=\"dataframe\">\n",
       "  <thead>\n",
       "    <tr style=\"text-align: right;\">\n",
       "      <th></th>\n",
       "      <th>Type_of_order</th>\n",
       "      <th>Type_of_vehicle</th>\n",
       "      <th>Time_taken</th>\n",
       "      <th>Days</th>\n",
       "      <th>distance_km</th>\n",
       "    </tr>\n",
       "  </thead>\n",
       "  <tbody>\n",
       "    <tr>\n",
       "      <th>0</th>\n",
       "      <td>1</td>\n",
       "      <td>1</td>\n",
       "      <td>24.0</td>\n",
       "      <td>6</td>\n",
       "      <td>6.232373</td>\n",
       "    </tr>\n",
       "    <tr>\n",
       "      <th>1</th>\n",
       "      <td>3</td>\n",
       "      <td>2</td>\n",
       "      <td>33.0</td>\n",
       "      <td>5</td>\n",
       "      <td>17.076617</td>\n",
       "    </tr>\n",
       "    <tr>\n",
       "      <th>2</th>\n",
       "      <td>1</td>\n",
       "      <td>2</td>\n",
       "      <td>42.0</td>\n",
       "      <td>1</td>\n",
       "      <td>13.406029</td>\n",
       "    </tr>\n",
       "    <tr>\n",
       "      <th>3</th>\n",
       "      <td>2</td>\n",
       "      <td>3</td>\n",
       "      <td>19.0</td>\n",
       "      <td>0</td>\n",
       "      <td>13.413644</td>\n",
       "    </tr>\n",
       "    <tr>\n",
       "      <th>4</th>\n",
       "      <td>1</td>\n",
       "      <td>3</td>\n",
       "      <td>25.0</td>\n",
       "      <td>3</td>\n",
       "      <td>17.076259</td>\n",
       "    </tr>\n",
       "    <tr>\n",
       "      <th>5</th>\n",
       "      <td>1</td>\n",
       "      <td>2</td>\n",
       "      <td>14.0</td>\n",
       "      <td>5</td>\n",
       "      <td>1.543933</td>\n",
       "    </tr>\n",
       "    <tr>\n",
       "      <th>6</th>\n",
       "      <td>0</td>\n",
       "      <td>3</td>\n",
       "      <td>29.0</td>\n",
       "      <td>5</td>\n",
       "      <td>3.105485</td>\n",
       "    </tr>\n",
       "    <tr>\n",
       "      <th>7</th>\n",
       "      <td>2</td>\n",
       "      <td>2</td>\n",
       "      <td>22.0</td>\n",
       "      <td>3</td>\n",
       "      <td>7.567851</td>\n",
       "    </tr>\n",
       "    <tr>\n",
       "      <th>8</th>\n",
       "      <td>3</td>\n",
       "      <td>3</td>\n",
       "      <td>28.0</td>\n",
       "      <td>4</td>\n",
       "      <td>13.989512</td>\n",
       "    </tr>\n",
       "    <tr>\n",
       "      <th>9</th>\n",
       "      <td>2</td>\n",
       "      <td>2</td>\n",
       "      <td>12.0</td>\n",
       "      <td>6</td>\n",
       "      <td>4.610614</td>\n",
       "    </tr>\n",
       "  </tbody>\n",
       "</table>\n",
       "</div>"
      ],
      "text/plain": [
       "   Type_of_order  Type_of_vehicle  Time_taken  Days  distance_km\n",
       "0              1                1        24.0     6     6.232373\n",
       "1              3                2        33.0     5    17.076617\n",
       "2              1                2        42.0     1    13.406029\n",
       "3              2                3        19.0     0    13.413644\n",
       "4              1                3        25.0     3    17.076259\n",
       "5              1                2        14.0     5     1.543933\n",
       "6              0                3        29.0     5     3.105485\n",
       "7              2                2        22.0     3     7.567851\n",
       "8              3                3        28.0     4    13.989512\n",
       "9              2                2        12.0     6     4.610614"
      ]
     },
     "execution_count": 55,
     "metadata": {},
     "output_type": "execute_result"
    }
   ],
   "source": [
    "input=food_delivery.fillna(inputs)\n",
    "input.head(10)"
   ]
  },
  {
   "cell_type": "code",
   "execution_count": 56,
   "id": "3654e39e",
   "metadata": {},
   "outputs": [
    {
     "data": {
      "text/plain": [
       "Type_of_order      0\n",
       "Type_of_vehicle    0\n",
       "Time_taken         0\n",
       "Days               0\n",
       "distance_km        0\n",
       "dtype: int64"
      ]
     },
     "execution_count": 56,
     "metadata": {},
     "output_type": "execute_result"
    }
   ],
   "source": [
    "input.isnull().sum()"
   ]
  },
  {
   "cell_type": "markdown",
   "id": "a4038c85",
   "metadata": {},
   "source": [
    "Dropping out the target variable"
   ]
  },
  {
   "cell_type": "code",
   "execution_count": 57,
   "id": "e8837721",
   "metadata": {},
   "outputs": [
    {
     "data": {
      "text/plain": [
       "0        24.0\n",
       "1        33.0\n",
       "2        42.0\n",
       "3        19.0\n",
       "4        25.0\n",
       "         ... \n",
       "11394    26.0\n",
       "11395    26.0\n",
       "11396    26.0\n",
       "11397    26.0\n",
       "11398    26.0\n",
       "Name: Time_taken, Length: 11399, dtype: float64"
      ]
     },
     "execution_count": 57,
     "metadata": {},
     "output_type": "execute_result"
    }
   ],
   "source": [
    "inputs=input.drop(['Time_taken'],axis='columns')\n",
    "target=input['Time_taken']\n",
    "target"
   ]
  },
  {
   "cell_type": "code",
   "execution_count": 70,
   "id": "638ac83d",
   "metadata": {
    "scrolled": true
   },
   "outputs": [
    {
     "data": {
      "text/html": [
       "<div>\n",
       "<style scoped>\n",
       "    .dataframe tbody tr th:only-of-type {\n",
       "        vertical-align: middle;\n",
       "    }\n",
       "\n",
       "    .dataframe tbody tr th {\n",
       "        vertical-align: top;\n",
       "    }\n",
       "\n",
       "    .dataframe thead th {\n",
       "        text-align: right;\n",
       "    }\n",
       "</style>\n",
       "<table border=\"1\" class=\"dataframe\">\n",
       "  <thead>\n",
       "    <tr style=\"text-align: right;\">\n",
       "      <th></th>\n",
       "      <th>Type_of_order</th>\n",
       "      <th>Type_of_vehicle</th>\n",
       "      <th>Days</th>\n",
       "      <th>distance_km</th>\n",
       "    </tr>\n",
       "  </thead>\n",
       "  <tbody>\n",
       "    <tr>\n",
       "      <th>0</th>\n",
       "      <td>1</td>\n",
       "      <td>1</td>\n",
       "      <td>6</td>\n",
       "      <td>6.232373</td>\n",
       "    </tr>\n",
       "    <tr>\n",
       "      <th>1</th>\n",
       "      <td>3</td>\n",
       "      <td>2</td>\n",
       "      <td>5</td>\n",
       "      <td>17.076617</td>\n",
       "    </tr>\n",
       "    <tr>\n",
       "      <th>2</th>\n",
       "      <td>1</td>\n",
       "      <td>2</td>\n",
       "      <td>1</td>\n",
       "      <td>13.406029</td>\n",
       "    </tr>\n",
       "    <tr>\n",
       "      <th>3</th>\n",
       "      <td>2</td>\n",
       "      <td>3</td>\n",
       "      <td>0</td>\n",
       "      <td>13.413644</td>\n",
       "    </tr>\n",
       "    <tr>\n",
       "      <th>4</th>\n",
       "      <td>1</td>\n",
       "      <td>3</td>\n",
       "      <td>3</td>\n",
       "      <td>17.076259</td>\n",
       "    </tr>\n",
       "    <tr>\n",
       "      <th>...</th>\n",
       "      <td>...</td>\n",
       "      <td>...</td>\n",
       "      <td>...</td>\n",
       "      <td>...</td>\n",
       "    </tr>\n",
       "    <tr>\n",
       "      <th>11394</th>\n",
       "      <td>3</td>\n",
       "      <td>3</td>\n",
       "      <td>3</td>\n",
       "      <td>16.384901</td>\n",
       "    </tr>\n",
       "    <tr>\n",
       "      <th>11395</th>\n",
       "      <td>1</td>\n",
       "      <td>3</td>\n",
       "      <td>4</td>\n",
       "      <td>1.489842</td>\n",
       "    </tr>\n",
       "    <tr>\n",
       "      <th>11396</th>\n",
       "      <td>1</td>\n",
       "      <td>3</td>\n",
       "      <td>4</td>\n",
       "      <td>9.121874</td>\n",
       "    </tr>\n",
       "    <tr>\n",
       "      <th>11397</th>\n",
       "      <td>2</td>\n",
       "      <td>2</td>\n",
       "      <td>0</td>\n",
       "      <td>19.687777</td>\n",
       "    </tr>\n",
       "    <tr>\n",
       "      <th>11398</th>\n",
       "      <td>1</td>\n",
       "      <td>2</td>\n",
       "      <td>4</td>\n",
       "      <td>7.760928</td>\n",
       "    </tr>\n",
       "  </tbody>\n",
       "</table>\n",
       "<p>11399 rows × 4 columns</p>\n",
       "</div>"
      ],
      "text/plain": [
       "       Type_of_order  Type_of_vehicle  Days  distance_km\n",
       "0                  1                1     6     6.232373\n",
       "1                  3                2     5    17.076617\n",
       "2                  1                2     1    13.406029\n",
       "3                  2                3     0    13.413644\n",
       "4                  1                3     3    17.076259\n",
       "...              ...              ...   ...          ...\n",
       "11394              3                3     3    16.384901\n",
       "11395              1                3     4     1.489842\n",
       "11396              1                3     4     9.121874\n",
       "11397              2                2     0    19.687777\n",
       "11398              1                2     4     7.760928\n",
       "\n",
       "[11399 rows x 4 columns]"
      ]
     },
     "execution_count": 70,
     "metadata": {},
     "output_type": "execute_result"
    }
   ],
   "source": [
    "inputs"
   ]
  },
  {
   "cell_type": "code",
   "execution_count": 71,
   "id": "d11e8c06",
   "metadata": {},
   "outputs": [],
   "source": [
    "from sklearn import tree\n",
    "model=tree.DecisionTreeClassifier()\n"
   ]
  },
  {
   "cell_type": "code",
   "execution_count": 72,
   "id": "962c83fe",
   "metadata": {},
   "outputs": [
    {
     "data": {
      "text/plain": [
       "DecisionTreeClassifier()"
      ]
     },
     "execution_count": 72,
     "metadata": {},
     "output_type": "execute_result"
    }
   ],
   "source": [
    "model.fit(inputs,target)"
   ]
  },
  {
   "cell_type": "markdown",
   "id": "5176b2b0",
   "metadata": {},
   "source": [
    "##### Mrs Ndidi ordered meals at the amazon restaurant on Thursday morning. Predict how long before she received her order if the delivery man used motorcycle bearing in mind that the customer  stays 9.760928 km away from the restaurant."
   ]
  },
  {
   "cell_type": "code",
   "execution_count": 73,
   "id": "89710736",
   "metadata": {},
   "outputs": [
    {
     "name": "stderr",
     "output_type": "stream",
     "text": [
      "C:\\Users\\juliy\\anaconda3\\lib\\site-packages\\sklearn\\base.py:450: UserWarning: X does not have valid feature names, but DecisionTreeClassifier was fitted with feature names\n",
      "  warnings.warn(\n"
     ]
    },
    {
     "data": {
      "text/plain": [
       "array([26.])"
      ]
     },
     "execution_count": 73,
     "metadata": {},
     "output_type": "execute_result"
    }
   ],
   "source": [
    "model.predict([[2,4,5,9.760928 ]])"
   ]
  },
  {
   "cell_type": "markdown",
   "id": "41c6e4d6",
   "metadata": {},
   "source": [
    "According to our analysis, it indicates that the customer will receive her order in 26 minutes"
   ]
  },
  {
   "cell_type": "code",
   "execution_count": 74,
   "id": "5393575d",
   "metadata": {},
   "outputs": [],
   "source": [
    "from sklearn.model_selection import train_test_split\n",
    "x_train,x_test,y_train,y_test=train_test_split(inputs,target,test_size=0.2)"
   ]
  },
  {
   "cell_type": "code",
   "execution_count": 75,
   "id": "6c9e4835",
   "metadata": {
    "scrolled": true
   },
   "outputs": [
    {
     "data": {
      "text/plain": [
       "0.9840336871655408"
      ]
     },
     "execution_count": 75,
     "metadata": {},
     "output_type": "execute_result"
    }
   ],
   "source": [
    "model.score(inputs,target)"
   ]
  },
  {
   "cell_type": "markdown",
   "id": "06c58a84",
   "metadata": {},
   "source": [
    "Our model shows an accuracy score of 98%"
   ]
  },
  {
   "cell_type": "code",
   "execution_count": 76,
   "id": "249fb3ac",
   "metadata": {},
   "outputs": [],
   "source": [
    "# Create a Pickle file \n",
    "\n",
    "import pickle\n",
    "\n",
    "pickle_out = open(\"model.pkl\",\"wb\")\n",
    "\n",
    "pickle.dump(model, pickle_out)\n",
    "\n",
    "pickle_out.close()"
   ]
  },
  {
   "cell_type": "code",
   "execution_count": 89,
   "id": "08f40418",
   "metadata": {},
   "outputs": [
    {
     "name": "stdout",
     "output_type": "stream",
     "text": [
      "26.0\n"
     ]
    },
    {
     "name": "stderr",
     "output_type": "stream",
     "text": [
      "C:\\Users\\juliy\\anaconda3\\lib\\site-packages\\sklearn\\base.py:450: UserWarning: X does not have valid feature names, but DecisionTreeClassifier was fitted with feature names\n",
      "  warnings.warn(\n"
     ]
    }
   ],
   "source": [
    "\n",
    "# if you don't have scaler use this way \n",
    "input_data=[[2,4,5,9.760928 ]]\n",
    "result=model.predict(input_data)[0]\n",
    "print(result)\n",
    "\n",
    "\n",
    "\n"
   ]
  },
  {
   "cell_type": "code",
   "execution_count": null,
   "id": "26c9f866",
   "metadata": {},
   "outputs": [],
   "source": []
  },
  {
   "cell_type": "markdown",
   "id": "97eae4bd",
   "metadata": {},
   "source": [
    "##### using linear regression model"
   ]
  },
  {
   "cell_type": "code",
   "execution_count": 64,
   "id": "fd063b09",
   "metadata": {},
   "outputs": [],
   "source": [
    "from sklearn import linear_model"
   ]
  },
  {
   "cell_type": "code",
   "execution_count": 65,
   "id": "41ee649a",
   "metadata": {},
   "outputs": [
    {
     "data": {
      "text/plain": [
       "LinearRegression()"
      ]
     },
     "execution_count": 65,
     "metadata": {},
     "output_type": "execute_result"
    }
   ],
   "source": [
    "reg = linear_model.LinearRegression()\n",
    "reg.fit(inputs, target)"
   ]
  },
  {
   "cell_type": "code",
   "execution_count": 66,
   "id": "5bf93108",
   "metadata": {},
   "outputs": [
    {
     "name": "stderr",
     "output_type": "stream",
     "text": [
      "C:\\Users\\juliy\\anaconda3\\lib\\site-packages\\sklearn\\base.py:450: UserWarning: X does not have valid feature names, but LinearRegression was fitted with feature names\n",
      "  warnings.warn(\n"
     ]
    },
    {
     "data": {
      "text/plain": [
       "array([26.43485171])"
      ]
     },
     "execution_count": 66,
     "metadata": {},
     "output_type": "execute_result"
    }
   ],
   "source": [
    "reg.predict([[2,4,5,9.760928]])"
   ]
  },
  {
   "cell_type": "markdown",
   "id": "67dc711c",
   "metadata": {},
   "source": [
    "Validating Prediction"
   ]
  },
  {
   "cell_type": "code",
   "execution_count": 67,
   "id": "ad2b1814",
   "metadata": {},
   "outputs": [
    {
     "data": {
      "text/plain": [
       "array([-5.84737181e-02,  1.92261728e-01,  1.01874228e-02, -2.88044409e-05])"
      ]
     },
     "execution_count": 67,
     "metadata": {},
     "output_type": "execute_result"
    }
   ],
   "source": [
    "reg.coef_"
   ]
  },
  {
   "cell_type": "code",
   "execution_count": 68,
   "id": "5f117f2a",
   "metadata": {},
   "outputs": [
    {
     "data": {
      "text/plain": [
       "25.732096278581974"
      ]
     },
     "execution_count": 68,
     "metadata": {},
     "output_type": "execute_result"
    }
   ],
   "source": [
    "reg.intercept_"
   ]
  },
  {
   "cell_type": "code",
   "execution_count": 69,
   "id": "971d0826",
   "metadata": {},
   "outputs": [
    {
     "data": {
      "text/plain": [
       "26.43485171030827"
      ]
     },
     "execution_count": 69,
     "metadata": {},
     "output_type": "execute_result"
    }
   ],
   "source": [
    "#y =mx + c\n",
    "#dependent variable = (slope or gradient * independent variable ) + intercept. the coefficient of x represents the gradient, i.e \"m\"\n",
    "#Time_taken= (coef1*Type_of_order + coef2*Type_of_vehicle + coef3*days+coef4+distance)+intercept\n",
    "Time_taken2 = (-5.84737181e-02*2 +1.92261728e-01 *4 + 1.01874228e-02*5 + -2.88044409e-05*9.760928) + 25.732096278581974\n",
    "Time_taken2"
   ]
  },
  {
   "cell_type": "code",
   "execution_count": null,
   "id": "82cb7a22",
   "metadata": {},
   "outputs": [],
   "source": []
  }
 ],
 "metadata": {
  "kernelspec": {
   "display_name": "Python 3 (ipykernel)",
   "language": "python",
   "name": "python3"
  },
  "language_info": {
   "codemirror_mode": {
    "name": "ipython",
    "version": 3
   },
   "file_extension": ".py",
   "mimetype": "text/x-python",
   "name": "python",
   "nbconvert_exporter": "python",
   "pygments_lexer": "ipython3",
   "version": "3.9.15"
  }
 },
 "nbformat": 4,
 "nbformat_minor": 5
}
